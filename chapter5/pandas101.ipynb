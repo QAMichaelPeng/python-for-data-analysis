{
 "cells": [
  {
   "cell_type": "markdown",
   "metadata": {},
   "source": [
    "# Pandas 101"
   ]
  },
  {
   "cell_type": "markdown",
   "metadata": {},
   "source": [
    "## Data Structure"
   ]
  },
  {
   "cell_type": "markdown",
   "metadata": {},
   "source": [
    "### Series"
   ]
  },
  {
   "cell_type": "code",
   "execution_count": 296,
   "metadata": {
    "collapsed": true
   },
   "outputs": [],
   "source": [
    "import pandas as pd\n",
    "from pandas import DataFrame, Series\n",
    "import numpy as np"
   ]
  },
  {
   "cell_type": "markdown",
   "metadata": {},
   "source": [
    "#### Default range index"
   ]
  },
  {
   "cell_type": "code",
   "execution_count": 297,
   "metadata": {},
   "outputs": [
    {
     "data": {
      "text/plain": [
       "0    1\n",
       "1    3\n",
       "2   -4\n",
       "3   -8\n",
       "dtype: int64"
      ]
     },
     "execution_count": 297,
     "metadata": {},
     "output_type": "execute_result"
    }
   ],
   "source": [
    "obj=Series([1,3,-4,-8])\n",
    "obj"
   ]
  },
  {
   "cell_type": "code",
   "execution_count": 298,
   "metadata": {},
   "outputs": [
    {
     "data": {
      "text/plain": [
       "array([ 1,  3, -4, -8])"
      ]
     },
     "execution_count": 298,
     "metadata": {},
     "output_type": "execute_result"
    }
   ],
   "source": [
    "obj.values"
   ]
  },
  {
   "cell_type": "code",
   "execution_count": 299,
   "metadata": {},
   "outputs": [
    {
     "data": {
      "text/plain": [
       "RangeIndex(start=0, stop=4, step=1)"
      ]
     },
     "execution_count": 299,
     "metadata": {},
     "output_type": "execute_result"
    }
   ],
   "source": [
    "obj.index"
   ]
  },
  {
   "cell_type": "markdown",
   "metadata": {},
   "source": [
    "#### Explicit index"
   ]
  },
  {
   "cell_type": "code",
   "execution_count": 300,
   "metadata": {},
   "outputs": [
    {
     "data": {
      "text/plain": [
       "a    1\n",
       "b    3\n",
       "c   -4\n",
       "d   -8\n",
       "dtype: int64"
      ]
     },
     "execution_count": 300,
     "metadata": {},
     "output_type": "execute_result"
    }
   ],
   "source": [
    "obj2=Series([1,3,-4,-8],index=[\"a\", \"b\", \"c\", \"d\"])\n",
    "obj2"
   ]
  },
  {
   "cell_type": "code",
   "execution_count": 301,
   "metadata": {},
   "outputs": [
    {
     "data": {
      "text/plain": [
       "Index(['a', 'b', 'c', 'd'], dtype='object')"
      ]
     },
     "execution_count": 301,
     "metadata": {},
     "output_type": "execute_result"
    }
   ],
   "source": [
    "obj2.index"
   ]
  },
  {
   "cell_type": "code",
   "execution_count": 302,
   "metadata": {},
   "outputs": [
    {
     "data": {
      "text/plain": [
       "1"
      ]
     },
     "execution_count": 302,
     "metadata": {},
     "output_type": "execute_result"
    }
   ],
   "source": [
    "obj2[\"a\"]"
   ]
  },
  {
   "cell_type": "code",
   "execution_count": 303,
   "metadata": {},
   "outputs": [
    {
     "data": {
      "text/plain": [
       "a    1\n",
       "b    3\n",
       "c   -4\n",
       "d    6\n",
       "dtype: int64"
      ]
     },
     "execution_count": 303,
     "metadata": {},
     "output_type": "execute_result"
    }
   ],
   "source": [
    "obj2[\"d\"]=6\n",
    "obj2"
   ]
  },
  {
   "cell_type": "markdown",
   "metadata": {},
   "source": [
    "#### numpy array like operations"
   ]
  },
  {
   "cell_type": "code",
   "execution_count": 304,
   "metadata": {},
   "outputs": [
    {
     "data": {
      "text/plain": [
       "c   -4\n",
       "b    3\n",
       "a    1\n",
       "dtype: int64"
      ]
     },
     "execution_count": 304,
     "metadata": {},
     "output_type": "execute_result"
    }
   ],
   "source": [
    "obj2[['c', 'b', 'a']]"
   ]
  },
  {
   "cell_type": "code",
   "execution_count": 305,
   "metadata": {},
   "outputs": [
    {
     "data": {
      "text/plain": [
       "a    3\n",
       "b    2\n",
       "c    1\n",
       "d    6\n",
       "dtype: int64"
      ]
     },
     "execution_count": 305,
     "metadata": {},
     "output_type": "execute_result"
    }
   ],
   "source": [
    "obj2[['c', 'b', 'a']]=[1,2,3]\n",
    "obj2"
   ]
  },
  {
   "cell_type": "code",
   "execution_count": 306,
   "metadata": {},
   "outputs": [
    {
     "data": {
      "text/plain": [
       "d    6\n",
       "dtype: int64"
      ]
     },
     "execution_count": 306,
     "metadata": {},
     "output_type": "execute_result"
    }
   ],
   "source": [
    "obj2[obj2>3]"
   ]
  },
  {
   "cell_type": "code",
   "execution_count": 307,
   "metadata": {},
   "outputs": [
    {
     "data": {
      "text/plain": [
       "a     9\n",
       "b     6\n",
       "c     3\n",
       "d    18\n",
       "dtype: int64"
      ]
     },
     "execution_count": 307,
     "metadata": {},
     "output_type": "execute_result"
    }
   ],
   "source": [
    "obj2*3"
   ]
  },
  {
   "cell_type": "code",
   "execution_count": 308,
   "metadata": {},
   "outputs": [
    {
     "data": {
      "text/plain": [
       "a     9\n",
       "b     6\n",
       "c     3\n",
       "d    18\n",
       "dtype: int64"
      ]
     },
     "execution_count": 308,
     "metadata": {},
     "output_type": "execute_result"
    }
   ],
   "source": [
    "obj2*=3\n",
    "obj2"
   ]
  },
  {
   "cell_type": "code",
   "execution_count": 309,
   "metadata": {},
   "outputs": [
    {
     "data": {
      "text/plain": [
       "a    8.103084e+03\n",
       "b    4.034288e+02\n",
       "c    2.008554e+01\n",
       "d    6.565997e+07\n",
       "dtype: float64"
      ]
     },
     "execution_count": 309,
     "metadata": {},
     "output_type": "execute_result"
    }
   ],
   "source": [
    "np.exp(obj2)"
   ]
  },
  {
   "cell_type": "markdown",
   "metadata": {},
   "source": [
    "#### Create from dict"
   ]
  },
  {
   "cell_type": "code",
   "execution_count": 310,
   "metadata": {},
   "outputs": [
    {
     "data": {
      "text/plain": [
       "CA    2000\n",
       "MD    4000\n",
       "WA    1000\n",
       "WY    3000\n",
       "dtype: int64"
      ]
     },
     "execution_count": 310,
     "metadata": {},
     "output_type": "execute_result"
    }
   ],
   "source": [
    "d = {\"WA\": 1000, \"CA\": 2000, \"WY\": 3000, \"MD\":4000}\n",
    "obj3 = Series(d)\n",
    "obj3"
   ]
  },
  {
   "cell_type": "markdown",
   "metadata": {},
   "source": [
    "##### Create with explicit index in a certain order"
   ]
  },
  {
   "cell_type": "code",
   "execution_count": 311,
   "metadata": {},
   "outputs": [
    {
     "data": {
      "text/plain": [
       "WA    1000.0\n",
       "CA    2000.0\n",
       "WY    3000.0\n",
       "NY       NaN\n",
       "dtype: float64"
      ]
     },
     "execution_count": 311,
     "metadata": {},
     "output_type": "execute_result"
    }
   ],
   "source": [
    "obj4=Series(d, index=[\"WA\", \"CA\", \"WY\", \"NY\"])\n",
    "obj4"
   ]
  },
  {
   "cell_type": "code",
   "execution_count": 312,
   "metadata": {},
   "outputs": [
    {
     "data": {
      "text/plain": [
       "WA    False\n",
       "CA    False\n",
       "WY    False\n",
       "NY     True\n",
       "dtype: bool"
      ]
     },
     "execution_count": 312,
     "metadata": {},
     "output_type": "execute_result"
    }
   ],
   "source": [
    "pd.isnull(obj4)"
   ]
  },
  {
   "cell_type": "code",
   "execution_count": 313,
   "metadata": {},
   "outputs": [
    {
     "data": {
      "text/plain": [
       "WA     True\n",
       "CA     True\n",
       "WY     True\n",
       "NY    False\n",
       "dtype: bool"
      ]
     },
     "execution_count": 313,
     "metadata": {},
     "output_type": "execute_result"
    }
   ],
   "source": [
    "pd.notnull(obj4)"
   ]
  },
  {
   "cell_type": "code",
   "execution_count": 314,
   "metadata": {},
   "outputs": [
    {
     "data": {
      "text/plain": [
       "WA    False\n",
       "CA    False\n",
       "WY    False\n",
       "NY     True\n",
       "dtype: bool"
      ]
     },
     "execution_count": 314,
     "metadata": {},
     "output_type": "execute_result"
    }
   ],
   "source": [
    "obj4.isnull()"
   ]
  },
  {
   "cell_type": "code",
   "execution_count": 315,
   "metadata": {},
   "outputs": [
    {
     "data": {
      "text/plain": [
       "WA     True\n",
       "CA     True\n",
       "WY     True\n",
       "NY    False\n",
       "dtype: bool"
      ]
     },
     "execution_count": 315,
     "metadata": {},
     "output_type": "execute_result"
    }
   ],
   "source": [
    "obj4.notnull()"
   ]
  },
  {
   "cell_type": "code",
   "execution_count": 316,
   "metadata": {},
   "outputs": [
    {
     "data": {
      "text/plain": [
       "CA    4000.0\n",
       "MD       NaN\n",
       "NY       NaN\n",
       "WA    2000.0\n",
       "WY    6000.0\n",
       "dtype: float64"
      ]
     },
     "execution_count": 316,
     "metadata": {},
     "output_type": "execute_result"
    }
   ],
   "source": [
    "obj3+obj4"
   ]
  },
  {
   "cell_type": "code",
   "execution_count": 317,
   "metadata": {},
   "outputs": [
    {
     "data": {
      "text/plain": [
       "Index(['WA', 'CA', 'WY', 'NY'], dtype='object')"
      ]
     },
     "execution_count": 317,
     "metadata": {},
     "output_type": "execute_result"
    }
   ],
   "source": [
    "obj4.index"
   ]
  },
  {
   "cell_type": "code",
   "execution_count": 318,
   "metadata": {},
   "outputs": [
    {
     "data": {
      "text/plain": [
       "Index(['WA', 'CA', 'WY', 'NY'], dtype='object', name='State')"
      ]
     },
     "execution_count": 318,
     "metadata": {},
     "output_type": "execute_result"
    }
   ],
   "source": [
    "obj4.index.name=\"State\"\n",
    "obj4.index"
   ]
  },
  {
   "cell_type": "code",
   "execution_count": 319,
   "metadata": {},
   "outputs": [
    {
     "data": {
      "text/plain": [
       "State\n",
       "WA    1000.0\n",
       "CA    2000.0\n",
       "WY    3000.0\n",
       "NY       NaN\n",
       "Name: Population, dtype: float64"
      ]
     },
     "execution_count": 319,
     "metadata": {},
     "output_type": "execute_result"
    }
   ],
   "source": [
    "obj4.name=\"Population\"\n",
    "obj4"
   ]
  },
  {
   "cell_type": "code",
   "execution_count": 320,
   "metadata": {},
   "outputs": [
    {
     "data": {
      "text/plain": [
       "WA    1\n",
       "WY    3\n",
       "CA   -4\n",
       "NY   -8\n",
       "dtype: int64"
      ]
     },
     "execution_count": 320,
     "metadata": {},
     "output_type": "execute_result"
    }
   ],
   "source": [
    "obj.index=[\"WA\", \"WY\", \"CA\", \"NY\"]\n",
    "obj"
   ]
  },
  {
   "cell_type": "code",
   "execution_count": 321,
   "metadata": {},
   "outputs": [
    {
     "data": {
      "text/plain": [
       "CA    1996.0\n",
       "NY       NaN\n",
       "WA    1001.0\n",
       "WY    3003.0\n",
       "dtype: float64"
      ]
     },
     "execution_count": 321,
     "metadata": {},
     "output_type": "execute_result"
    }
   ],
   "source": [
    "obj+obj4"
   ]
  },
  {
   "cell_type": "markdown",
   "metadata": {},
   "source": [
    "### DataFrame"
   ]
  },
  {
   "cell_type": "code",
   "execution_count": 322,
   "metadata": {},
   "outputs": [
    {
     "data": {
      "text/html": [
       "<div>\n",
       "<style>\n",
       "    .dataframe thead tr:only-child th {\n",
       "        text-align: right;\n",
       "    }\n",
       "\n",
       "    .dataframe thead th {\n",
       "        text-align: left;\n",
       "    }\n",
       "\n",
       "    .dataframe tbody tr th {\n",
       "        vertical-align: top;\n",
       "    }\n",
       "</style>\n",
       "<table border=\"1\" class=\"dataframe\">\n",
       "  <thead>\n",
       "    <tr style=\"text-align: right;\">\n",
       "      <th></th>\n",
       "      <th>pop</th>\n",
       "      <th>state</th>\n",
       "      <th>year</th>\n",
       "    </tr>\n",
       "  </thead>\n",
       "  <tbody>\n",
       "    <tr>\n",
       "      <th>0</th>\n",
       "      <td>1.2</td>\n",
       "      <td>WA</td>\n",
       "      <td>2000</td>\n",
       "    </tr>\n",
       "    <tr>\n",
       "      <th>1</th>\n",
       "      <td>3.4</td>\n",
       "      <td>WA</td>\n",
       "      <td>2001</td>\n",
       "    </tr>\n",
       "    <tr>\n",
       "      <th>2</th>\n",
       "      <td>2.4</td>\n",
       "      <td>WA</td>\n",
       "      <td>2002</td>\n",
       "    </tr>\n",
       "    <tr>\n",
       "      <th>3</th>\n",
       "      <td>3.2</td>\n",
       "      <td>CA</td>\n",
       "      <td>1999</td>\n",
       "    </tr>\n",
       "    <tr>\n",
       "      <th>4</th>\n",
       "      <td>4.5</td>\n",
       "      <td>CA</td>\n",
       "      <td>2000</td>\n",
       "    </tr>\n",
       "    <tr>\n",
       "      <th>5</th>\n",
       "      <td>4.5</td>\n",
       "      <td>NY</td>\n",
       "      <td>2003</td>\n",
       "    </tr>\n",
       "  </tbody>\n",
       "</table>\n",
       "</div>"
      ],
      "text/plain": [
       "   pop state  year\n",
       "0  1.2    WA  2000\n",
       "1  3.4    WA  2001\n",
       "2  2.4    WA  2002\n",
       "3  3.2    CA  1999\n",
       "4  4.5    CA  2000\n",
       "5  4.5    NY  2003"
      ]
     },
     "execution_count": 322,
     "metadata": {},
     "output_type": "execute_result"
    }
   ],
   "source": [
    "data = {\n",
    "    \"state\": [\"WA\", \"WA\", \"WA\", \"CA\", \"CA\", \"NY\"],\n",
    "    \"year\": [2000,2001,2002,1999,2000,2003],\n",
    "    \"pop\": [1.2,3.4,2.4,3.2,4.5,4.5]\n",
    "}\n",
    "df = DataFrame(data)\n",
    "df"
   ]
  },
  {
   "cell_type": "code",
   "execution_count": 323,
   "metadata": {},
   "outputs": [
    {
     "data": {
      "text/plain": [
       "0    1.2\n",
       "1    3.4\n",
       "2    2.4\n",
       "3    3.2\n",
       "4    4.5\n",
       "5    4.5\n",
       "Name: pop, dtype: float64"
      ]
     },
     "execution_count": 323,
     "metadata": {},
     "output_type": "execute_result"
    }
   ],
   "source": [
    "df[\"pop\"]"
   ]
  },
  {
   "cell_type": "code",
   "execution_count": 324,
   "metadata": {},
   "outputs": [
    {
     "data": {
      "text/html": [
       "<div>\n",
       "<style>\n",
       "    .dataframe thead tr:only-child th {\n",
       "        text-align: right;\n",
       "    }\n",
       "\n",
       "    .dataframe thead th {\n",
       "        text-align: left;\n",
       "    }\n",
       "\n",
       "    .dataframe tbody tr th {\n",
       "        vertical-align: top;\n",
       "    }\n",
       "</style>\n",
       "<table border=\"1\" class=\"dataframe\">\n",
       "  <thead>\n",
       "    <tr style=\"text-align: right;\">\n",
       "      <th></th>\n",
       "      <th>pop</th>\n",
       "      <th>state</th>\n",
       "      <th>year</th>\n",
       "    </tr>\n",
       "  </thead>\n",
       "  <tbody>\n",
       "    <tr>\n",
       "      <th>0</th>\n",
       "      <td>1.2</td>\n",
       "      <td>WA</td>\n",
       "      <td>2000</td>\n",
       "    </tr>\n",
       "    <tr>\n",
       "      <th>1</th>\n",
       "      <td>3.4</td>\n",
       "      <td>WA</td>\n",
       "      <td>2001</td>\n",
       "    </tr>\n",
       "    <tr>\n",
       "      <th>2</th>\n",
       "      <td>2.4</td>\n",
       "      <td>WA</td>\n",
       "      <td>2002</td>\n",
       "    </tr>\n",
       "    <tr>\n",
       "      <th>3</th>\n",
       "      <td>3.2</td>\n",
       "      <td>CA</td>\n",
       "      <td>1999</td>\n",
       "    </tr>\n",
       "    <tr>\n",
       "      <th>4</th>\n",
       "      <td>4.5</td>\n",
       "      <td>CA</td>\n",
       "      <td>2000</td>\n",
       "    </tr>\n",
       "  </tbody>\n",
       "</table>\n",
       "</div>"
      ],
      "text/plain": [
       "   pop state  year\n",
       "0  1.2    WA  2000\n",
       "1  3.4    WA  2001\n",
       "2  2.4    WA  2002\n",
       "3  3.2    CA  1999\n",
       "4  4.5    CA  2000"
      ]
     },
     "execution_count": 324,
     "metadata": {},
     "output_type": "execute_result"
    }
   ],
   "source": [
    "df.head()"
   ]
  },
  {
   "cell_type": "code",
   "execution_count": 325,
   "metadata": {},
   "outputs": [
    {
     "data": {
      "text/html": [
       "<div>\n",
       "<style>\n",
       "    .dataframe thead tr:only-child th {\n",
       "        text-align: right;\n",
       "    }\n",
       "\n",
       "    .dataframe thead th {\n",
       "        text-align: left;\n",
       "    }\n",
       "\n",
       "    .dataframe tbody tr th {\n",
       "        vertical-align: top;\n",
       "    }\n",
       "</style>\n",
       "<table border=\"1\" class=\"dataframe\">\n",
       "  <thead>\n",
       "    <tr style=\"text-align: right;\">\n",
       "      <th></th>\n",
       "      <th>year</th>\n",
       "      <th>pop</th>\n",
       "      <th>state</th>\n",
       "    </tr>\n",
       "  </thead>\n",
       "  <tbody>\n",
       "    <tr>\n",
       "      <th>0</th>\n",
       "      <td>2000</td>\n",
       "      <td>1.2</td>\n",
       "      <td>WA</td>\n",
       "    </tr>\n",
       "    <tr>\n",
       "      <th>1</th>\n",
       "      <td>2001</td>\n",
       "      <td>3.4</td>\n",
       "      <td>WA</td>\n",
       "    </tr>\n",
       "    <tr>\n",
       "      <th>2</th>\n",
       "      <td>2002</td>\n",
       "      <td>2.4</td>\n",
       "      <td>WA</td>\n",
       "    </tr>\n",
       "    <tr>\n",
       "      <th>3</th>\n",
       "      <td>1999</td>\n",
       "      <td>3.2</td>\n",
       "      <td>CA</td>\n",
       "    </tr>\n",
       "    <tr>\n",
       "      <th>4</th>\n",
       "      <td>2000</td>\n",
       "      <td>4.5</td>\n",
       "      <td>CA</td>\n",
       "    </tr>\n",
       "    <tr>\n",
       "      <th>5</th>\n",
       "      <td>2003</td>\n",
       "      <td>4.5</td>\n",
       "      <td>NY</td>\n",
       "    </tr>\n",
       "  </tbody>\n",
       "</table>\n",
       "</div>"
      ],
      "text/plain": [
       "   year  pop state\n",
       "0  2000  1.2    WA\n",
       "1  2001  3.4    WA\n",
       "2  2002  2.4    WA\n",
       "3  1999  3.2    CA\n",
       "4  2000  4.5    CA\n",
       "5  2003  4.5    NY"
      ]
     },
     "execution_count": 325,
     "metadata": {},
     "output_type": "execute_result"
    }
   ],
   "source": [
    "df=DataFrame(data, columns=['year','pop', 'state'])\n",
    "df"
   ]
  },
  {
   "cell_type": "code",
   "execution_count": 326,
   "metadata": {},
   "outputs": [
    {
     "data": {
      "text/html": [
       "<div>\n",
       "<style>\n",
       "    .dataframe thead tr:only-child th {\n",
       "        text-align: right;\n",
       "    }\n",
       "\n",
       "    .dataframe thead th {\n",
       "        text-align: left;\n",
       "    }\n",
       "\n",
       "    .dataframe tbody tr th {\n",
       "        vertical-align: top;\n",
       "    }\n",
       "</style>\n",
       "<table border=\"1\" class=\"dataframe\">\n",
       "  <thead>\n",
       "    <tr style=\"text-align: right;\">\n",
       "      <th></th>\n",
       "      <th>year</th>\n",
       "      <th>pop</th>\n",
       "      <th>state</th>\n",
       "      <th>debt</th>\n",
       "    </tr>\n",
       "  </thead>\n",
       "  <tbody>\n",
       "    <tr>\n",
       "      <th>zero</th>\n",
       "      <td>2000</td>\n",
       "      <td>1.2</td>\n",
       "      <td>WA</td>\n",
       "      <td>NaN</td>\n",
       "    </tr>\n",
       "    <tr>\n",
       "      <th>one</th>\n",
       "      <td>2001</td>\n",
       "      <td>3.4</td>\n",
       "      <td>WA</td>\n",
       "      <td>NaN</td>\n",
       "    </tr>\n",
       "    <tr>\n",
       "      <th>two</th>\n",
       "      <td>2002</td>\n",
       "      <td>2.4</td>\n",
       "      <td>WA</td>\n",
       "      <td>NaN</td>\n",
       "    </tr>\n",
       "    <tr>\n",
       "      <th>three</th>\n",
       "      <td>1999</td>\n",
       "      <td>3.2</td>\n",
       "      <td>CA</td>\n",
       "      <td>NaN</td>\n",
       "    </tr>\n",
       "    <tr>\n",
       "      <th>four</th>\n",
       "      <td>2000</td>\n",
       "      <td>4.5</td>\n",
       "      <td>CA</td>\n",
       "      <td>NaN</td>\n",
       "    </tr>\n",
       "    <tr>\n",
       "      <th>five</th>\n",
       "      <td>2003</td>\n",
       "      <td>4.5</td>\n",
       "      <td>NY</td>\n",
       "      <td>NaN</td>\n",
       "    </tr>\n",
       "  </tbody>\n",
       "</table>\n",
       "</div>"
      ],
      "text/plain": [
       "       year  pop state debt\n",
       "zero   2000  1.2    WA  NaN\n",
       "one    2001  3.4    WA  NaN\n",
       "two    2002  2.4    WA  NaN\n",
       "three  1999  3.2    CA  NaN\n",
       "four   2000  4.5    CA  NaN\n",
       "five   2003  4.5    NY  NaN"
      ]
     },
     "execution_count": 326,
     "metadata": {},
     "output_type": "execute_result"
    }
   ],
   "source": [
    "df=DataFrame(data, columns=['year','pop', 'state', 'debt'], index=['zero','one', 'two', 'three', 'four', 'five'])\n",
    "df"
   ]
  },
  {
   "cell_type": "code",
   "execution_count": 327,
   "metadata": {},
   "outputs": [
    {
     "data": {
      "text/plain": [
       "zero     2000\n",
       "one      2001\n",
       "two      2002\n",
       "three    1999\n",
       "four     2000\n",
       "five     2003\n",
       "Name: year, dtype: int64"
      ]
     },
     "execution_count": 327,
     "metadata": {},
     "output_type": "execute_result"
    }
   ],
   "source": [
    "df[\"year\"]"
   ]
  },
  {
   "cell_type": "code",
   "execution_count": 328,
   "metadata": {},
   "outputs": [
    {
     "data": {
      "text/plain": [
       "zero     2000\n",
       "one      2001\n",
       "two      2002\n",
       "three    1999\n",
       "four     2000\n",
       "five     2003\n",
       "Name: year, dtype: int64"
      ]
     },
     "execution_count": 328,
     "metadata": {},
     "output_type": "execute_result"
    }
   ],
   "source": [
    "df.year"
   ]
  },
  {
   "cell_type": "code",
   "execution_count": 329,
   "metadata": {},
   "outputs": [
    {
     "data": {
      "text/plain": [
       "year     2001\n",
       "pop       3.4\n",
       "state      WA\n",
       "debt      NaN\n",
       "Name: one, dtype: object"
      ]
     },
     "execution_count": 329,
     "metadata": {},
     "output_type": "execute_result"
    }
   ],
   "source": [
    "df.loc['one']"
   ]
  },
  {
   "cell_type": "code",
   "execution_count": 330,
   "metadata": {},
   "outputs": [
    {
     "data": {
      "text/html": [
       "<div>\n",
       "<style>\n",
       "    .dataframe thead tr:only-child th {\n",
       "        text-align: right;\n",
       "    }\n",
       "\n",
       "    .dataframe thead th {\n",
       "        text-align: left;\n",
       "    }\n",
       "\n",
       "    .dataframe tbody tr th {\n",
       "        vertical-align: top;\n",
       "    }\n",
       "</style>\n",
       "<table border=\"1\" class=\"dataframe\">\n",
       "  <thead>\n",
       "    <tr style=\"text-align: right;\">\n",
       "      <th></th>\n",
       "      <th>year</th>\n",
       "      <th>pop</th>\n",
       "      <th>state</th>\n",
       "      <th>debt</th>\n",
       "    </tr>\n",
       "  </thead>\n",
       "  <tbody>\n",
       "    <tr>\n",
       "      <th>zero</th>\n",
       "      <td>2000</td>\n",
       "      <td>1.2</td>\n",
       "      <td>WA</td>\n",
       "      <td>3</td>\n",
       "    </tr>\n",
       "    <tr>\n",
       "      <th>one</th>\n",
       "      <td>2001</td>\n",
       "      <td>3.4</td>\n",
       "      <td>WA</td>\n",
       "      <td>3</td>\n",
       "    </tr>\n",
       "    <tr>\n",
       "      <th>two</th>\n",
       "      <td>2002</td>\n",
       "      <td>2.4</td>\n",
       "      <td>WA</td>\n",
       "      <td>3</td>\n",
       "    </tr>\n",
       "    <tr>\n",
       "      <th>three</th>\n",
       "      <td>1999</td>\n",
       "      <td>3.2</td>\n",
       "      <td>CA</td>\n",
       "      <td>3</td>\n",
       "    </tr>\n",
       "    <tr>\n",
       "      <th>four</th>\n",
       "      <td>2000</td>\n",
       "      <td>4.5</td>\n",
       "      <td>CA</td>\n",
       "      <td>3</td>\n",
       "    </tr>\n",
       "    <tr>\n",
       "      <th>five</th>\n",
       "      <td>2003</td>\n",
       "      <td>4.5</td>\n",
       "      <td>NY</td>\n",
       "      <td>3</td>\n",
       "    </tr>\n",
       "  </tbody>\n",
       "</table>\n",
       "</div>"
      ],
      "text/plain": [
       "       year  pop state  debt\n",
       "zero   2000  1.2    WA     3\n",
       "one    2001  3.4    WA     3\n",
       "two    2002  2.4    WA     3\n",
       "three  1999  3.2    CA     3\n",
       "four   2000  4.5    CA     3\n",
       "five   2003  4.5    NY     3"
      ]
     },
     "execution_count": 330,
     "metadata": {},
     "output_type": "execute_result"
    }
   ],
   "source": [
    "df['debt']=3\n",
    "df"
   ]
  },
  {
   "cell_type": "code",
   "execution_count": 331,
   "metadata": {},
   "outputs": [
    {
     "data": {
      "text/html": [
       "<div>\n",
       "<style>\n",
       "    .dataframe thead tr:only-child th {\n",
       "        text-align: right;\n",
       "    }\n",
       "\n",
       "    .dataframe thead th {\n",
       "        text-align: left;\n",
       "    }\n",
       "\n",
       "    .dataframe tbody tr th {\n",
       "        vertical-align: top;\n",
       "    }\n",
       "</style>\n",
       "<table border=\"1\" class=\"dataframe\">\n",
       "  <thead>\n",
       "    <tr style=\"text-align: right;\">\n",
       "      <th></th>\n",
       "      <th>year</th>\n",
       "      <th>pop</th>\n",
       "      <th>state</th>\n",
       "      <th>debt</th>\n",
       "    </tr>\n",
       "  </thead>\n",
       "  <tbody>\n",
       "    <tr>\n",
       "      <th>zero</th>\n",
       "      <td>2000</td>\n",
       "      <td>1.2</td>\n",
       "      <td>WA</td>\n",
       "      <td>0</td>\n",
       "    </tr>\n",
       "    <tr>\n",
       "      <th>one</th>\n",
       "      <td>2001</td>\n",
       "      <td>3.4</td>\n",
       "      <td>WA</td>\n",
       "      <td>1</td>\n",
       "    </tr>\n",
       "    <tr>\n",
       "      <th>two</th>\n",
       "      <td>2002</td>\n",
       "      <td>2.4</td>\n",
       "      <td>WA</td>\n",
       "      <td>2</td>\n",
       "    </tr>\n",
       "    <tr>\n",
       "      <th>three</th>\n",
       "      <td>1999</td>\n",
       "      <td>3.2</td>\n",
       "      <td>CA</td>\n",
       "      <td>3</td>\n",
       "    </tr>\n",
       "    <tr>\n",
       "      <th>four</th>\n",
       "      <td>2000</td>\n",
       "      <td>4.5</td>\n",
       "      <td>CA</td>\n",
       "      <td>4</td>\n",
       "    </tr>\n",
       "    <tr>\n",
       "      <th>five</th>\n",
       "      <td>2003</td>\n",
       "      <td>4.5</td>\n",
       "      <td>NY</td>\n",
       "      <td>5</td>\n",
       "    </tr>\n",
       "  </tbody>\n",
       "</table>\n",
       "</div>"
      ],
      "text/plain": [
       "       year  pop state  debt\n",
       "zero   2000  1.2    WA     0\n",
       "one    2001  3.4    WA     1\n",
       "two    2002  2.4    WA     2\n",
       "three  1999  3.2    CA     3\n",
       "four   2000  4.5    CA     4\n",
       "five   2003  4.5    NY     5"
      ]
     },
     "execution_count": 331,
     "metadata": {},
     "output_type": "execute_result"
    }
   ],
   "source": [
    "df['debt']=np.arange(6)\n",
    "df"
   ]
  },
  {
   "cell_type": "code",
   "execution_count": 332,
   "metadata": {},
   "outputs": [
    {
     "data": {
      "text/plain": [
       "zero       3\n",
       "two        8\n",
       "five       9\n",
       "eight    100\n",
       "dtype: int64"
      ]
     },
     "execution_count": 332,
     "metadata": {},
     "output_type": "execute_result"
    }
   ],
   "source": [
    "val=Series([3,8,9,100],index=['zero', 'two', 'five', 'eight'])\n",
    "val"
   ]
  },
  {
   "cell_type": "code",
   "execution_count": 333,
   "metadata": {},
   "outputs": [
    {
     "data": {
      "text/html": [
       "<div>\n",
       "<style>\n",
       "    .dataframe thead tr:only-child th {\n",
       "        text-align: right;\n",
       "    }\n",
       "\n",
       "    .dataframe thead th {\n",
       "        text-align: left;\n",
       "    }\n",
       "\n",
       "    .dataframe tbody tr th {\n",
       "        vertical-align: top;\n",
       "    }\n",
       "</style>\n",
       "<table border=\"1\" class=\"dataframe\">\n",
       "  <thead>\n",
       "    <tr style=\"text-align: right;\">\n",
       "      <th></th>\n",
       "      <th>year</th>\n",
       "      <th>pop</th>\n",
       "      <th>state</th>\n",
       "      <th>debt</th>\n",
       "    </tr>\n",
       "  </thead>\n",
       "  <tbody>\n",
       "    <tr>\n",
       "      <th>zero</th>\n",
       "      <td>2000</td>\n",
       "      <td>1.2</td>\n",
       "      <td>WA</td>\n",
       "      <td>3.0</td>\n",
       "    </tr>\n",
       "    <tr>\n",
       "      <th>one</th>\n",
       "      <td>2001</td>\n",
       "      <td>3.4</td>\n",
       "      <td>WA</td>\n",
       "      <td>NaN</td>\n",
       "    </tr>\n",
       "    <tr>\n",
       "      <th>two</th>\n",
       "      <td>2002</td>\n",
       "      <td>2.4</td>\n",
       "      <td>WA</td>\n",
       "      <td>8.0</td>\n",
       "    </tr>\n",
       "    <tr>\n",
       "      <th>three</th>\n",
       "      <td>1999</td>\n",
       "      <td>3.2</td>\n",
       "      <td>CA</td>\n",
       "      <td>NaN</td>\n",
       "    </tr>\n",
       "    <tr>\n",
       "      <th>four</th>\n",
       "      <td>2000</td>\n",
       "      <td>4.5</td>\n",
       "      <td>CA</td>\n",
       "      <td>NaN</td>\n",
       "    </tr>\n",
       "    <tr>\n",
       "      <th>five</th>\n",
       "      <td>2003</td>\n",
       "      <td>4.5</td>\n",
       "      <td>NY</td>\n",
       "      <td>9.0</td>\n",
       "    </tr>\n",
       "  </tbody>\n",
       "</table>\n",
       "</div>"
      ],
      "text/plain": [
       "       year  pop state  debt\n",
       "zero   2000  1.2    WA   3.0\n",
       "one    2001  3.4    WA   NaN\n",
       "two    2002  2.4    WA   8.0\n",
       "three  1999  3.2    CA   NaN\n",
       "four   2000  4.5    CA   NaN\n",
       "five   2003  4.5    NY   9.0"
      ]
     },
     "execution_count": 333,
     "metadata": {},
     "output_type": "execute_result"
    }
   ],
   "source": [
    "df['debt']=val\n",
    "df"
   ]
  },
  {
   "cell_type": "code",
   "execution_count": 334,
   "metadata": {},
   "outputs": [
    {
     "data": {
      "text/html": [
       "<div>\n",
       "<style>\n",
       "    .dataframe thead tr:only-child th {\n",
       "        text-align: right;\n",
       "    }\n",
       "\n",
       "    .dataframe thead th {\n",
       "        text-align: left;\n",
       "    }\n",
       "\n",
       "    .dataframe tbody tr th {\n",
       "        vertical-align: top;\n",
       "    }\n",
       "</style>\n",
       "<table border=\"1\" class=\"dataframe\">\n",
       "  <thead>\n",
       "    <tr style=\"text-align: right;\">\n",
       "      <th></th>\n",
       "      <th>year</th>\n",
       "      <th>pop</th>\n",
       "      <th>state</th>\n",
       "      <th>debt</th>\n",
       "      <th>eastern</th>\n",
       "    </tr>\n",
       "  </thead>\n",
       "  <tbody>\n",
       "    <tr>\n",
       "      <th>zero</th>\n",
       "      <td>2000</td>\n",
       "      <td>1.2</td>\n",
       "      <td>WA</td>\n",
       "      <td>3.0</td>\n",
       "      <td>False</td>\n",
       "    </tr>\n",
       "    <tr>\n",
       "      <th>one</th>\n",
       "      <td>2001</td>\n",
       "      <td>3.4</td>\n",
       "      <td>WA</td>\n",
       "      <td>NaN</td>\n",
       "      <td>False</td>\n",
       "    </tr>\n",
       "    <tr>\n",
       "      <th>two</th>\n",
       "      <td>2002</td>\n",
       "      <td>2.4</td>\n",
       "      <td>WA</td>\n",
       "      <td>8.0</td>\n",
       "      <td>False</td>\n",
       "    </tr>\n",
       "    <tr>\n",
       "      <th>three</th>\n",
       "      <td>1999</td>\n",
       "      <td>3.2</td>\n",
       "      <td>CA</td>\n",
       "      <td>NaN</td>\n",
       "      <td>False</td>\n",
       "    </tr>\n",
       "    <tr>\n",
       "      <th>four</th>\n",
       "      <td>2000</td>\n",
       "      <td>4.5</td>\n",
       "      <td>CA</td>\n",
       "      <td>NaN</td>\n",
       "      <td>False</td>\n",
       "    </tr>\n",
       "    <tr>\n",
       "      <th>five</th>\n",
       "      <td>2003</td>\n",
       "      <td>4.5</td>\n",
       "      <td>NY</td>\n",
       "      <td>9.0</td>\n",
       "      <td>True</td>\n",
       "    </tr>\n",
       "  </tbody>\n",
       "</table>\n",
       "</div>"
      ],
      "text/plain": [
       "       year  pop state  debt  eastern\n",
       "zero   2000  1.2    WA   3.0    False\n",
       "one    2001  3.4    WA   NaN    False\n",
       "two    2002  2.4    WA   8.0    False\n",
       "three  1999  3.2    CA   NaN    False\n",
       "four   2000  4.5    CA   NaN    False\n",
       "five   2003  4.5    NY   9.0     True"
      ]
     },
     "execution_count": 334,
     "metadata": {},
     "output_type": "execute_result"
    }
   ],
   "source": [
    "df['eastern']=df['state']=='NY'\n",
    "df"
   ]
  },
  {
   "cell_type": "code",
   "execution_count": 335,
   "metadata": {},
   "outputs": [
    {
     "data": {
      "text/plain": [
       "Index(['year', 'pop', 'state', 'debt', 'eastern'], dtype='object')"
      ]
     },
     "execution_count": 335,
     "metadata": {},
     "output_type": "execute_result"
    }
   ],
   "source": [
    "df.columns"
   ]
  },
  {
   "cell_type": "code",
   "execution_count": 336,
   "metadata": {
    "collapsed": true
   },
   "outputs": [],
   "source": [
    "del df['eastern']"
   ]
  },
  {
   "cell_type": "code",
   "execution_count": 337,
   "metadata": {},
   "outputs": [
    {
     "data": {
      "text/plain": [
       "Index(['year', 'pop', 'state', 'debt'], dtype='object')"
      ]
     },
     "execution_count": 337,
     "metadata": {},
     "output_type": "execute_result"
    }
   ],
   "source": [
    "df.columns"
   ]
  },
  {
   "cell_type": "markdown",
   "metadata": {},
   "source": [
    "#### Create from nested dict"
   ]
  },
  {
   "cell_type": "code",
   "execution_count": 338,
   "metadata": {},
   "outputs": [
    {
     "data": {
      "text/html": [
       "<div>\n",
       "<style>\n",
       "    .dataframe thead tr:only-child th {\n",
       "        text-align: right;\n",
       "    }\n",
       "\n",
       "    .dataframe thead th {\n",
       "        text-align: left;\n",
       "    }\n",
       "\n",
       "    .dataframe tbody tr th {\n",
       "        vertical-align: top;\n",
       "    }\n",
       "</style>\n",
       "<table border=\"1\" class=\"dataframe\">\n",
       "  <thead>\n",
       "    <tr style=\"text-align: right;\">\n",
       "      <th></th>\n",
       "      <th>CA</th>\n",
       "      <th>WA</th>\n",
       "    </tr>\n",
       "  </thead>\n",
       "  <tbody>\n",
       "    <tr>\n",
       "      <th>2000</th>\n",
       "      <td>3.0</td>\n",
       "      <td>1.0</td>\n",
       "    </tr>\n",
       "    <tr>\n",
       "      <th>2001</th>\n",
       "      <td>3.5</td>\n",
       "      <td>2.0</td>\n",
       "    </tr>\n",
       "    <tr>\n",
       "      <th>2002</th>\n",
       "      <td>4.0</td>\n",
       "      <td>NaN</td>\n",
       "    </tr>\n",
       "    <tr>\n",
       "      <th>2003</th>\n",
       "      <td>NaN</td>\n",
       "      <td>3.0</td>\n",
       "    </tr>\n",
       "  </tbody>\n",
       "</table>\n",
       "</div>"
      ],
      "text/plain": [
       "       CA   WA\n",
       "2000  3.0  1.0\n",
       "2001  3.5  2.0\n",
       "2002  4.0  NaN\n",
       "2003  NaN  3.0"
      ]
     },
     "execution_count": 338,
     "metadata": {},
     "output_type": "execute_result"
    }
   ],
   "source": [
    "data2={'WA':{2000:1, 2001:2, 2003:3}, 'CA':{2000:3, 2001:3.5, 2002:4.0}}\n",
    "df2=DataFrame(data2)\n",
    "df2"
   ]
  },
  {
   "cell_type": "code",
   "execution_count": 339,
   "metadata": {},
   "outputs": [
    {
     "data": {
      "text/html": [
       "<div>\n",
       "<style>\n",
       "    .dataframe thead tr:only-child th {\n",
       "        text-align: right;\n",
       "    }\n",
       "\n",
       "    .dataframe thead th {\n",
       "        text-align: left;\n",
       "    }\n",
       "\n",
       "    .dataframe tbody tr th {\n",
       "        vertical-align: top;\n",
       "    }\n",
       "</style>\n",
       "<table border=\"1\" class=\"dataframe\">\n",
       "  <thead>\n",
       "    <tr style=\"text-align: right;\">\n",
       "      <th></th>\n",
       "      <th>2000</th>\n",
       "      <th>2001</th>\n",
       "      <th>2002</th>\n",
       "      <th>2003</th>\n",
       "    </tr>\n",
       "  </thead>\n",
       "  <tbody>\n",
       "    <tr>\n",
       "      <th>CA</th>\n",
       "      <td>3.0</td>\n",
       "      <td>3.5</td>\n",
       "      <td>4.0</td>\n",
       "      <td>NaN</td>\n",
       "    </tr>\n",
       "    <tr>\n",
       "      <th>WA</th>\n",
       "      <td>1.0</td>\n",
       "      <td>2.0</td>\n",
       "      <td>NaN</td>\n",
       "      <td>3.0</td>\n",
       "    </tr>\n",
       "  </tbody>\n",
       "</table>\n",
       "</div>"
      ],
      "text/plain": [
       "    2000  2001  2002  2003\n",
       "CA   3.0   3.5   4.0   NaN\n",
       "WA   1.0   2.0   NaN   3.0"
      ]
     },
     "execution_count": 339,
     "metadata": {},
     "output_type": "execute_result"
    }
   ],
   "source": [
    "df2.T"
   ]
  },
  {
   "cell_type": "code",
   "execution_count": 340,
   "metadata": {},
   "outputs": [
    {
     "data": {
      "text/html": [
       "<div>\n",
       "<style>\n",
       "    .dataframe thead tr:only-child th {\n",
       "        text-align: right;\n",
       "    }\n",
       "\n",
       "    .dataframe thead th {\n",
       "        text-align: left;\n",
       "    }\n",
       "\n",
       "    .dataframe tbody tr th {\n",
       "        vertical-align: top;\n",
       "    }\n",
       "</style>\n",
       "<table border=\"1\" class=\"dataframe\">\n",
       "  <thead>\n",
       "    <tr style=\"text-align: right;\">\n",
       "      <th></th>\n",
       "      <th>CA</th>\n",
       "      <th>WA</th>\n",
       "    </tr>\n",
       "  </thead>\n",
       "  <tbody>\n",
       "    <tr>\n",
       "      <th>2004</th>\n",
       "      <td>NaN</td>\n",
       "      <td>NaN</td>\n",
       "    </tr>\n",
       "    <tr>\n",
       "      <th>2001</th>\n",
       "      <td>3.5</td>\n",
       "      <td>2.0</td>\n",
       "    </tr>\n",
       "    <tr>\n",
       "      <th>2000</th>\n",
       "      <td>3.0</td>\n",
       "      <td>1.0</td>\n",
       "    </tr>\n",
       "  </tbody>\n",
       "</table>\n",
       "</div>"
      ],
      "text/plain": [
       "       CA   WA\n",
       "2004  NaN  NaN\n",
       "2001  3.5  2.0\n",
       "2000  3.0  1.0"
      ]
     },
     "execution_count": 340,
     "metadata": {},
     "output_type": "execute_result"
    }
   ],
   "source": [
    "DataFrame(data2, index=[2004,2001,2000])"
   ]
  },
  {
   "cell_type": "code",
   "execution_count": 341,
   "metadata": {},
   "outputs": [
    {
     "data": {
      "text/html": [
       "<div>\n",
       "<style>\n",
       "    .dataframe thead tr:only-child th {\n",
       "        text-align: right;\n",
       "    }\n",
       "\n",
       "    .dataframe thead th {\n",
       "        text-align: left;\n",
       "    }\n",
       "\n",
       "    .dataframe tbody tr th {\n",
       "        vertical-align: top;\n",
       "    }\n",
       "</style>\n",
       "<table border=\"1\" class=\"dataframe\">\n",
       "  <thead>\n",
       "    <tr style=\"text-align: right;\">\n",
       "      <th></th>\n",
       "      <th>CA</th>\n",
       "      <th>WA</th>\n",
       "    </tr>\n",
       "  </thead>\n",
       "  <tbody>\n",
       "    <tr>\n",
       "      <th>2000</th>\n",
       "      <td>3.0</td>\n",
       "      <td>1.0</td>\n",
       "    </tr>\n",
       "    <tr>\n",
       "      <th>2001</th>\n",
       "      <td>3.5</td>\n",
       "      <td>2.0</td>\n",
       "    </tr>\n",
       "    <tr>\n",
       "      <th>2002</th>\n",
       "      <td>4.0</td>\n",
       "      <td>NaN</td>\n",
       "    </tr>\n",
       "    <tr>\n",
       "      <th>2003</th>\n",
       "      <td>NaN</td>\n",
       "      <td>NaN</td>\n",
       "    </tr>\n",
       "  </tbody>\n",
       "</table>\n",
       "</div>"
      ],
      "text/plain": [
       "       CA   WA\n",
       "2000  3.0  1.0\n",
       "2001  3.5  2.0\n",
       "2002  4.0  NaN\n",
       "2003  NaN  NaN"
      ]
     },
     "execution_count": 341,
     "metadata": {},
     "output_type": "execute_result"
    }
   ],
   "source": [
    "pdata={'WA':df2['WA'][:-1], 'CA':df2['CA']}\n",
    "df3=DataFrame(pdata)\n",
    "df3"
   ]
  },
  {
   "cell_type": "code",
   "execution_count": 342,
   "metadata": {},
   "outputs": [
    {
     "data": {
      "text/html": [
       "<div>\n",
       "<style>\n",
       "    .dataframe thead tr:only-child th {\n",
       "        text-align: right;\n",
       "    }\n",
       "\n",
       "    .dataframe thead th {\n",
       "        text-align: left;\n",
       "    }\n",
       "\n",
       "    .dataframe tbody tr th {\n",
       "        vertical-align: top;\n",
       "    }\n",
       "</style>\n",
       "<table border=\"1\" class=\"dataframe\">\n",
       "  <thead>\n",
       "    <tr style=\"text-align: right;\">\n",
       "      <th>state</th>\n",
       "      <th>CA</th>\n",
       "      <th>WA</th>\n",
       "    </tr>\n",
       "    <tr>\n",
       "      <th>year</th>\n",
       "      <th></th>\n",
       "      <th></th>\n",
       "    </tr>\n",
       "  </thead>\n",
       "  <tbody>\n",
       "    <tr>\n",
       "      <th>2000</th>\n",
       "      <td>3.0</td>\n",
       "      <td>1.0</td>\n",
       "    </tr>\n",
       "    <tr>\n",
       "      <th>2001</th>\n",
       "      <td>3.5</td>\n",
       "      <td>2.0</td>\n",
       "    </tr>\n",
       "    <tr>\n",
       "      <th>2002</th>\n",
       "      <td>4.0</td>\n",
       "      <td>NaN</td>\n",
       "    </tr>\n",
       "    <tr>\n",
       "      <th>2003</th>\n",
       "      <td>NaN</td>\n",
       "      <td>NaN</td>\n",
       "    </tr>\n",
       "  </tbody>\n",
       "</table>\n",
       "</div>"
      ],
      "text/plain": [
       "state   CA   WA\n",
       "year           \n",
       "2000   3.0  1.0\n",
       "2001   3.5  2.0\n",
       "2002   4.0  NaN\n",
       "2003   NaN  NaN"
      ]
     },
     "execution_count": 342,
     "metadata": {},
     "output_type": "execute_result"
    }
   ],
   "source": [
    "df3.index.name='year'\n",
    "df3.columns.name='state'\n",
    "df3"
   ]
  },
  {
   "cell_type": "code",
   "execution_count": 343,
   "metadata": {},
   "outputs": [
    {
     "data": {
      "text/plain": [
       "Index(['CA', 'WA'], dtype='object', name='state')"
      ]
     },
     "execution_count": 343,
     "metadata": {},
     "output_type": "execute_result"
    }
   ],
   "source": [
    "df3.columns"
   ]
  },
  {
   "cell_type": "code",
   "execution_count": 344,
   "metadata": {},
   "outputs": [
    {
     "data": {
      "text/plain": [
       "array([[ 3. ,  1. ],\n",
       "       [ 3.5,  2. ],\n",
       "       [ 4. ,  nan],\n",
       "       [ nan,  nan]])"
      ]
     },
     "execution_count": 344,
     "metadata": {},
     "output_type": "execute_result"
    }
   ],
   "source": [
    "df3.values"
   ]
  },
  {
   "cell_type": "code",
   "execution_count": 345,
   "metadata": {},
   "outputs": [
    {
     "data": {
      "text/plain": [
       "array([[ 3. ,  1. ],\n",
       "       [ 3.5,  2. ],\n",
       "       [ 4. ,  nan],\n",
       "       [ nan,  3. ]])"
      ]
     },
     "execution_count": 345,
     "metadata": {},
     "output_type": "execute_result"
    }
   ],
   "source": [
    "df2.values"
   ]
  },
  {
   "cell_type": "code",
   "execution_count": 346,
   "metadata": {},
   "outputs": [
    {
     "data": {
      "text/plain": [
       "array([[2000, 1.2, 'WA', 3.0],\n",
       "       [2001, 3.4, 'WA', nan],\n",
       "       [2002, 2.4, 'WA', 8.0],\n",
       "       [1999, 3.2, 'CA', nan],\n",
       "       [2000, 4.5, 'CA', nan],\n",
       "       [2003, 4.5, 'NY', 9.0]], dtype=object)"
      ]
     },
     "execution_count": 346,
     "metadata": {},
     "output_type": "execute_result"
    }
   ],
   "source": [
    "df.values"
   ]
  },
  {
   "cell_type": "markdown",
   "metadata": {},
   "source": [
    "### Index"
   ]
  },
  {
   "cell_type": "markdown",
   "metadata": {},
   "source": [
    "|Function|Description|\n",
    "|--|--|\n",
    "|append||\n",
    "|difference||\n",
    "|intersection||\n",
    "|isin||\n",
    "|delete||\n",
    "|drop||\n",
    "|insert||\n",
    "|is_monotonic||\n",
    "|is_unique||\n",
    "|unique||\n"
   ]
  },
  {
   "cell_type": "code",
   "execution_count": 347,
   "metadata": {},
   "outputs": [
    {
     "data": {
      "text/plain": [
       "Index(['a', 'b', 'c'], dtype='object')"
      ]
     },
     "execution_count": 347,
     "metadata": {},
     "output_type": "execute_result"
    }
   ],
   "source": [
    "obj=Series(range(3), index=['a','b','c'])\n",
    "obj.index"
   ]
  },
  {
   "cell_type": "code",
   "execution_count": 348,
   "metadata": {},
   "outputs": [
    {
     "data": {
      "text/plain": [
       "True"
      ]
     },
     "execution_count": 348,
     "metadata": {},
     "output_type": "execute_result"
    }
   ],
   "source": [
    "'a' in obj.index"
   ]
  },
  {
   "cell_type": "code",
   "execution_count": 349,
   "metadata": {},
   "outputs": [
    {
     "data": {
      "text/plain": [
       "False"
      ]
     },
     "execution_count": 349,
     "metadata": {},
     "output_type": "execute_result"
    }
   ],
   "source": [
    "'g' in obj.index"
   ]
  },
  {
   "cell_type": "code",
   "execution_count": 350,
   "metadata": {},
   "outputs": [
    {
     "data": {
      "text/plain": [
       "Index(['b', 'c'], dtype='object')"
      ]
     },
     "execution_count": 350,
     "metadata": {},
     "output_type": "execute_result"
    }
   ],
   "source": [
    "obj.index[1:]"
   ]
  },
  {
   "cell_type": "code",
   "execution_count": 351,
   "metadata": {},
   "outputs": [
    {
     "data": {
      "text/plain": [
       "Int64Index([0, 1, 2], dtype='int64')"
      ]
     },
     "execution_count": 351,
     "metadata": {},
     "output_type": "execute_result"
    }
   ],
   "source": [
    "labels=pd.Index(np.arange(3))\n",
    "labels"
   ]
  },
  {
   "cell_type": "code",
   "execution_count": 352,
   "metadata": {},
   "outputs": [
    {
     "data": {
      "text/plain": [
       "RangeIndex(start=0, stop=3, step=1)"
      ]
     },
     "execution_count": 352,
     "metadata": {},
     "output_type": "execute_result"
    }
   ],
   "source": [
    "index=pd.RangeIndex(3)\n",
    "index"
   ]
  },
  {
   "cell_type": "code",
   "execution_count": 353,
   "metadata": {
    "collapsed": true
   },
   "outputs": [],
   "source": [
    "obj.index=index"
   ]
  },
  {
   "cell_type": "code",
   "execution_count": 354,
   "metadata": {},
   "outputs": [
    {
     "data": {
      "text/plain": [
       "0    0\n",
       "1    1\n",
       "2    2\n",
       "dtype: int64"
      ]
     },
     "execution_count": 354,
     "metadata": {},
     "output_type": "execute_result"
    }
   ],
   "source": [
    "obj"
   ]
  },
  {
   "cell_type": "code",
   "execution_count": 355,
   "metadata": {},
   "outputs": [
    {
     "data": {
      "text/plain": [
       "Int64Index([0, 1, 2, 0, 1, 2], dtype='int64')"
      ]
     },
     "execution_count": 355,
     "metadata": {},
     "output_type": "execute_result"
    }
   ],
   "source": [
    "labels.append(index)"
   ]
  },
  {
   "cell_type": "code",
   "execution_count": 356,
   "metadata": {
    "collapsed": true
   },
   "outputs": [],
   "source": [
    "index2=pd.RangeIndex(2,8,1)"
   ]
  },
  {
   "cell_type": "code",
   "execution_count": 357,
   "metadata": {},
   "outputs": [
    {
     "data": {
      "text/plain": [
       "RangeIndex(start=2, stop=3, step=1)"
      ]
     },
     "execution_count": 357,
     "metadata": {},
     "output_type": "execute_result"
    }
   ],
   "source": [
    "index.intersection(index2)"
   ]
  },
  {
   "cell_type": "code",
   "execution_count": 358,
   "metadata": {},
   "outputs": [
    {
     "data": {
      "text/plain": [
       "Int64Index([2], dtype='int64')"
      ]
     },
     "execution_count": 358,
     "metadata": {},
     "output_type": "execute_result"
    }
   ],
   "source": [
    "labels.intersection(index2)"
   ]
  },
  {
   "cell_type": "code",
   "execution_count": 359,
   "metadata": {},
   "outputs": [
    {
     "data": {
      "text/plain": [
       "Int64Index([0, 1, 2, 3, 4, 5, 6, 7], dtype='int64')"
      ]
     },
     "execution_count": 359,
     "metadata": {},
     "output_type": "execute_result"
    }
   ],
   "source": [
    "labels.union(index2)"
   ]
  },
  {
   "cell_type": "code",
   "execution_count": 360,
   "metadata": {},
   "outputs": [
    {
     "data": {
      "text/plain": [
       "RangeIndex(start=0, stop=8, step=1)"
      ]
     },
     "execution_count": 360,
     "metadata": {},
     "output_type": "execute_result"
    }
   ],
   "source": [
    "index.union(index2)"
   ]
  },
  {
   "cell_type": "code",
   "execution_count": 361,
   "metadata": {},
   "outputs": [
    {
     "data": {
      "text/plain": [
       "Int64Index([0, 1, 2, 10, 12, 14, 16, 18], dtype='int64')"
      ]
     },
     "execution_count": 361,
     "metadata": {},
     "output_type": "execute_result"
    }
   ],
   "source": [
    "index.union(pd.RangeIndex(10,20,2))"
   ]
  },
  {
   "cell_type": "code",
   "execution_count": 362,
   "metadata": {},
   "outputs": [
    {
     "data": {
      "text/plain": [
       "Int64Index([0, 1], dtype='int64')"
      ]
     },
     "execution_count": 362,
     "metadata": {},
     "output_type": "execute_result"
    }
   ],
   "source": [
    "index.difference(index2)"
   ]
  },
  {
   "cell_type": "code",
   "execution_count": 363,
   "metadata": {},
   "outputs": [
    {
     "data": {
      "text/plain": [
       "array([False, False,  True], dtype=bool)"
      ]
     },
     "execution_count": 363,
     "metadata": {},
     "output_type": "execute_result"
    }
   ],
   "source": [
    "index.isin(index2)"
   ]
  },
  {
   "cell_type": "code",
   "execution_count": 364,
   "metadata": {},
   "outputs": [
    {
     "data": {
      "text/plain": [
       "Int64Index([0, 1], dtype='int64')"
      ]
     },
     "execution_count": 364,
     "metadata": {},
     "output_type": "execute_result"
    }
   ],
   "source": [
    "index.delete(2)"
   ]
  },
  {
   "cell_type": "code",
   "execution_count": 365,
   "metadata": {},
   "outputs": [
    {
     "data": {
      "text/plain": [
       "Int64Index([2, 3, 5, 6, 7], dtype='int64')"
      ]
     },
     "execution_count": 365,
     "metadata": {},
     "output_type": "execute_result"
    }
   ],
   "source": [
    "index2.delete(2)"
   ]
  },
  {
   "cell_type": "code",
   "execution_count": 366,
   "metadata": {},
   "outputs": [
    {
     "ename": "ValueError",
     "evalue": "labels [3 4 5 6 7] not contained in axis",
     "output_type": "error",
     "traceback": [
      "\u001b[0;31m---------------------------------------------------------------------------\u001b[0m",
      "\u001b[0;31mValueError\u001b[0m                                Traceback (most recent call last)",
      "\u001b[0;32m<ipython-input-366-f03b8ee8490a>\u001b[0m in \u001b[0;36m<module>\u001b[0;34m()\u001b[0m\n\u001b[0;32m----> 1\u001b[0;31m \u001b[0mindex\u001b[0m\u001b[0;34m.\u001b[0m\u001b[0mdrop\u001b[0m\u001b[0;34m(\u001b[0m\u001b[0mindex2\u001b[0m\u001b[0;34m)\u001b[0m\u001b[0;34m\u001b[0m\u001b[0m\n\u001b[0m",
      "\u001b[0;32m~/anaconda3/lib/python3.6/site-packages/pandas/core/indexes/base.py\u001b[0m in \u001b[0;36mdrop\u001b[0;34m(self, labels, errors)\u001b[0m\n\u001b[1;32m   3622\u001b[0m         \u001b[0moverlap\u001b[0m \u001b[0;34m=\u001b[0m \u001b[0mself_names\u001b[0m \u001b[0;34m&\u001b[0m \u001b[0mother_names\u001b[0m\u001b[0;34m\u001b[0m\u001b[0m\n\u001b[1;32m   3623\u001b[0m \u001b[0;34m\u001b[0m\u001b[0m\n\u001b[0;32m-> 3624\u001b[0;31m         \u001b[0;31m# need at least 1 in common\u001b[0m\u001b[0;34m\u001b[0m\u001b[0;34m\u001b[0m\u001b[0m\n\u001b[0m\u001b[1;32m   3625\u001b[0m         \u001b[0;32mif\u001b[0m \u001b[0;32mnot\u001b[0m \u001b[0moverlap\u001b[0m\u001b[0;34m:\u001b[0m\u001b[0;34m\u001b[0m\u001b[0m\n\u001b[1;32m   3626\u001b[0m             \u001b[0;32mraise\u001b[0m \u001b[0mValueError\u001b[0m\u001b[0;34m(\u001b[0m\u001b[0;34m\"cannot join with no overlapping index names\"\u001b[0m\u001b[0;34m)\u001b[0m\u001b[0;34m\u001b[0m\u001b[0m\n",
      "\u001b[0;31mValueError\u001b[0m: labels [3 4 5 6 7] not contained in axis"
     ]
    }
   ],
   "source": [
    "index.drop(index2)"
   ]
  },
  {
   "cell_type": "code",
   "execution_count": null,
   "metadata": {},
   "outputs": [],
   "source": [
    "index3=pd.Index([0,2])\n",
    "index.drop(index3)"
   ]
  },
  {
   "cell_type": "code",
   "execution_count": null,
   "metadata": {},
   "outputs": [],
   "source": [
    "index.insert(0, -2)"
   ]
  },
  {
   "cell_type": "code",
   "execution_count": null,
   "metadata": {},
   "outputs": [],
   "source": [
    "index.is_monotonic"
   ]
  },
  {
   "cell_type": "code",
   "execution_count": null,
   "metadata": {},
   "outputs": [],
   "source": [
    "index.insert(0, 8).is_monotonic"
   ]
  },
  {
   "cell_type": "code",
   "execution_count": null,
   "metadata": {},
   "outputs": [],
   "source": [
    "index.is_unique"
   ]
  },
  {
   "cell_type": "code",
   "execution_count": null,
   "metadata": {},
   "outputs": [],
   "source": [
    "index.insert(0,2).is_unique"
   ]
  },
  {
   "cell_type": "code",
   "execution_count": null,
   "metadata": {},
   "outputs": [],
   "source": [
    "index.insert(0,2).unique()"
   ]
  },
  {
   "cell_type": "code",
   "execution_count": null,
   "metadata": {},
   "outputs": [],
   "source": [
    "for i in index:\n",
    "    print(i)"
   ]
  },
  {
   "cell_type": "markdown",
   "metadata": {},
   "source": [
    "## Basic features"
   ]
  },
  {
   "cell_type": "markdown",
   "metadata": {},
   "source": [
    "## Reindex"
   ]
  },
  {
   "cell_type": "code",
   "execution_count": null,
   "metadata": {},
   "outputs": [],
   "source": [
    "obj=Series([1.,2.,4.], index=['a','b','d'])\n",
    "obj"
   ]
  },
  {
   "cell_type": "code",
   "execution_count": null,
   "metadata": {},
   "outputs": [],
   "source": [
    "obj2=obj.reindex(['d','b','a','c'])\n",
    "obj2"
   ]
  },
  {
   "cell_type": "code",
   "execution_count": null,
   "metadata": {},
   "outputs": [],
   "source": [
    "obj3=obj.reindex(['d','b','a','c'], method='ffill')\n",
    "obj3"
   ]
  },
  {
   "cell_type": "code",
   "execution_count": null,
   "metadata": {},
   "outputs": [],
   "source": [
    "states=['WA','CA','NY']\n",
    "df=DataFrame(np.random.randint(20,size=(3,3)), index=['a','c','d'], columns=states)\n",
    "df"
   ]
  },
  {
   "cell_type": "code",
   "execution_count": null,
   "metadata": {},
   "outputs": [],
   "source": [
    "df2=df.reindex(['a','b','c','d'])\n",
    "df2"
   ]
  },
  {
   "cell_type": "code",
   "execution_count": null,
   "metadata": {},
   "outputs": [],
   "source": [
    "new_states=['WA','AZ','TX']\n",
    "df3=df.reindex(columns=new_states)\n",
    "df3"
   ]
  },
  {
   "cell_type": "code",
   "execution_count": null,
   "metadata": {},
   "outputs": [],
   "source": [
    "df.loc[['a','b','c','d'],['WA']]"
   ]
  },
  {
   "cell_type": "markdown",
   "metadata": {},
   "source": [
    "## Drop data"
   ]
  },
  {
   "cell_type": "code",
   "execution_count": null,
   "metadata": {},
   "outputs": [],
   "source": [
    "obj=DataFrame(np.arange(5.),index=['a','b','c','d','e'])\n",
    "obj"
   ]
  },
  {
   "cell_type": "code",
   "execution_count": null,
   "metadata": {},
   "outputs": [],
   "source": [
    "obj.drop('c')"
   ]
  },
  {
   "cell_type": "code",
   "execution_count": null,
   "metadata": {},
   "outputs": [],
   "source": [
    "obj.drop(['d','b'])"
   ]
  },
  {
   "cell_type": "code",
   "execution_count": null,
   "metadata": {},
   "outputs": [],
   "source": [
    "states=['WA','CA','NY']\n",
    "df=DataFrame(np.random.randint(20,size=(3,3)), index=['a','c','d'], columns=states)\n",
    "df"
   ]
  },
  {
   "cell_type": "code",
   "execution_count": null,
   "metadata": {},
   "outputs": [],
   "source": [
    "df.drop('a')"
   ]
  },
  {
   "cell_type": "code",
   "execution_count": null,
   "metadata": {},
   "outputs": [],
   "source": [
    "df.drop('WA', axis=1)"
   ]
  },
  {
   "cell_type": "code",
   "execution_count": null,
   "metadata": {},
   "outputs": [],
   "source": [
    "df.drop(['CA', 'NY'],axis='columns')"
   ]
  },
  {
   "cell_type": "code",
   "execution_count": null,
   "metadata": {},
   "outputs": [],
   "source": [
    "df"
   ]
  },
  {
   "cell_type": "code",
   "execution_count": null,
   "metadata": {},
   "outputs": [],
   "source": [
    "df.drop(['CA'], axis='columns',inplace=True)\n",
    "df"
   ]
  },
  {
   "cell_type": "markdown",
   "metadata": {},
   "source": [
    "### Index, select and filter"
   ]
  },
  {
   "cell_type": "code",
   "execution_count": null,
   "metadata": {},
   "outputs": [],
   "source": [
    "obj=Series(np.arange(4.),index=['a','b','c','d'])\n",
    "obj[0:3]"
   ]
  },
  {
   "cell_type": "code",
   "execution_count": null,
   "metadata": {},
   "outputs": [],
   "source": [
    "obj['a':'c']"
   ]
  },
  {
   "cell_type": "code",
   "execution_count": null,
   "metadata": {},
   "outputs": [],
   "source": [
    "robj=obj.reindex(['a','c','d','b'])\n",
    "robj"
   ]
  },
  {
   "cell_type": "code",
   "execution_count": null,
   "metadata": {},
   "outputs": [],
   "source": [
    "robj['b':'c']"
   ]
  },
  {
   "cell_type": "code",
   "execution_count": null,
   "metadata": {},
   "outputs": [],
   "source": [
    "robj['a':'b']"
   ]
  },
  {
   "cell_type": "code",
   "execution_count": null,
   "metadata": {},
   "outputs": [],
   "source": [
    "robj['a':'c']"
   ]
  },
  {
   "cell_type": "code",
   "execution_count": null,
   "metadata": {},
   "outputs": [],
   "source": [
    "obj2=Series(np.arange(4.))\n",
    "obj2[0:3]"
   ]
  },
  {
   "cell_type": "code",
   "execution_count": null,
   "metadata": {},
   "outputs": [],
   "source": [
    "obj2[0:1]=4\n",
    "obj2"
   ]
  },
  {
   "cell_type": "code",
   "execution_count": null,
   "metadata": {},
   "outputs": [],
   "source": [
    "df=DataFrame(np.random.randint(20,size=(4,4)), index=['WA','CA', 'NY', 'TX'],columns=['one','two','three','four'])\n",
    "df"
   ]
  },
  {
   "cell_type": "code",
   "execution_count": null,
   "metadata": {},
   "outputs": [],
   "source": [
    "df['one']"
   ]
  },
  {
   "cell_type": "code",
   "execution_count": null,
   "metadata": {},
   "outputs": [],
   "source": [
    "df[['one','two']]"
   ]
  },
  {
   "cell_type": "code",
   "execution_count": null,
   "metadata": {},
   "outputs": [],
   "source": [
    "df[0:4:2]"
   ]
  },
  {
   "cell_type": "code",
   "execution_count": null,
   "metadata": {},
   "outputs": [],
   "source": [
    "df[df['one']>5]"
   ]
  },
  {
   "cell_type": "code",
   "execution_count": null,
   "metadata": {},
   "outputs": [],
   "source": [
    "df.loc[['WA','CA'], 'one']"
   ]
  },
  {
   "cell_type": "code",
   "execution_count": null,
   "metadata": {},
   "outputs": [],
   "source": [
    "df.loc['WA':'NY', 'one':'three']"
   ]
  },
  {
   "cell_type": "code",
   "execution_count": null,
   "metadata": {},
   "outputs": [],
   "source": [
    "df.iloc[0:2]"
   ]
  },
  {
   "cell_type": "code",
   "execution_count": null,
   "metadata": {},
   "outputs": [],
   "source": [
    "df.iloc[:,0:4:2][df['one']>5]"
   ]
  },
  {
   "cell_type": "code",
   "execution_count": null,
   "metadata": {},
   "outputs": [],
   "source": [
    "df.iat[0,0]"
   ]
  },
  {
   "cell_type": "code",
   "execution_count": null,
   "metadata": {},
   "outputs": [],
   "source": [
    "df.at['CA','one']"
   ]
  },
  {
   "cell_type": "markdown",
   "metadata": {},
   "source": [
    "### Int Index"
   ]
  },
  {
   "cell_type": "code",
   "execution_count": null,
   "metadata": {},
   "outputs": [],
   "source": [
    "ser = Series(np.arange(3.))\n",
    "ser[-1]"
   ]
  },
  {
   "cell_type": "code",
   "execution_count": null,
   "metadata": {},
   "outputs": [],
   "source": [
    "ser"
   ]
  },
  {
   "cell_type": "code",
   "execution_count": null,
   "metadata": {},
   "outputs": [],
   "source": [
    "ser.iloc[-1]"
   ]
  },
  {
   "cell_type": "markdown",
   "metadata": {},
   "source": [
    "### Arithmetic and data fill"
   ]
  },
  {
   "cell_type": "code",
   "execution_count": null,
   "metadata": {},
   "outputs": [],
   "source": [
    "s1=Series(np.arange(3.), index=list('abc'))\n",
    "s1"
   ]
  },
  {
   "cell_type": "code",
   "execution_count": null,
   "metadata": {},
   "outputs": [],
   "source": [
    "s2=Series(np.arange(5.),index=list('cdefb'))\n",
    "s2"
   ]
  },
  {
   "cell_type": "code",
   "execution_count": null,
   "metadata": {},
   "outputs": [],
   "source": [
    "s1+s2"
   ]
  },
  {
   "cell_type": "code",
   "execution_count": null,
   "metadata": {},
   "outputs": [],
   "source": [
    "s1*s2"
   ]
  },
  {
   "cell_type": "code",
   "execution_count": null,
   "metadata": {},
   "outputs": [],
   "source": [
    "s1.add(s2,fill_value=0)"
   ]
  },
  {
   "cell_type": "code",
   "execution_count": null,
   "metadata": {},
   "outputs": [],
   "source": [
    "s1.mul(s2, fill_value=1)"
   ]
  },
  {
   "cell_type": "code",
   "execution_count": null,
   "metadata": {},
   "outputs": [],
   "source": [
    "df1=DataFrame(np.random.randint(20,size=(3,3)), index='WA,CA,NY'.split(','),columns=list('bac'))\n",
    "df1"
   ]
  },
  {
   "cell_type": "code",
   "execution_count": null,
   "metadata": {},
   "outputs": [],
   "source": [
    "df2=DataFrame(np.random.randint(20,size=(4,4)),index='WA,OH,CA,NY'.split(','), columns=list('aecd'))\n",
    "df2"
   ]
  },
  {
   "cell_type": "code",
   "execution_count": null,
   "metadata": {},
   "outputs": [],
   "source": [
    "df1+df2"
   ]
  },
  {
   "cell_type": "code",
   "execution_count": null,
   "metadata": {},
   "outputs": [],
   "source": [
    "df1.add(df2,fill_value=0)"
   ]
  },
  {
   "cell_type": "code",
   "execution_count": null,
   "metadata": {},
   "outputs": [],
   "source": [
    "1/df1"
   ]
  },
  {
   "cell_type": "code",
   "execution_count": null,
   "metadata": {},
   "outputs": [],
   "source": [
    "df1.rdiv(1)"
   ]
  },
  {
   "cell_type": "code",
   "execution_count": null,
   "metadata": {},
   "outputs": [],
   "source": [
    "ser=df1.iloc[0]\n",
    "ser"
   ]
  },
  {
   "cell_type": "code",
   "execution_count": null,
   "metadata": {},
   "outputs": [],
   "source": [
    "df1-ser"
   ]
  },
  {
   "cell_type": "code",
   "execution_count": null,
   "metadata": {},
   "outputs": [],
   "source": [
    "ser2=Series(np.arange(5.), index=list('cafed'))\n",
    "ser2"
   ]
  },
  {
   "cell_type": "code",
   "execution_count": null,
   "metadata": {},
   "outputs": [],
   "source": [
    "df1-ser2"
   ]
  },
  {
   "cell_type": "code",
   "execution_count": null,
   "metadata": {},
   "outputs": [],
   "source": [
    "df1"
   ]
  },
  {
   "cell_type": "code",
   "execution_count": null,
   "metadata": {},
   "outputs": [],
   "source": [
    "ser3=Series(np.arange(5.), 'WA,CA,TX,OH,FL'.split(','))\n",
    "ser3"
   ]
  },
  {
   "cell_type": "code",
   "execution_count": null,
   "metadata": {},
   "outputs": [],
   "source": [
    "df1.sub(ser3, axis=0)"
   ]
  },
  {
   "cell_type": "markdown",
   "metadata": {},
   "source": [
    "## Function"
   ]
  },
  {
   "cell_type": "code",
   "execution_count": null,
   "metadata": {},
   "outputs": [],
   "source": [
    "df=DataFrame(np.random.randint(20,size=(4,4)), index=['WA','CA', 'NY', 'TX'],columns=['one','two','three','four'])\n",
    "df"
   ]
  },
  {
   "cell_type": "code",
   "execution_count": null,
   "metadata": {
    "scrolled": true
   },
   "outputs": [],
   "source": [
    "np.sin(df)"
   ]
  },
  {
   "cell_type": "code",
   "execution_count": null,
   "metadata": {},
   "outputs": [],
   "source": [
    "df.apply(np.sum)"
   ]
  },
  {
   "cell_type": "code",
   "execution_count": null,
   "metadata": {},
   "outputs": [],
   "source": [
    "df.apply(np.sum,axis=1)"
   ]
  },
  {
   "cell_type": "code",
   "execution_count": null,
   "metadata": {},
   "outputs": [],
   "source": [
    "df.sum()"
   ]
  },
  {
   "cell_type": "code",
   "execution_count": null,
   "metadata": {},
   "outputs": [],
   "source": [
    "df.sum(axis=1)"
   ]
  },
  {
   "cell_type": "code",
   "execution_count": null,
   "metadata": {
    "collapsed": true
   },
   "outputs": [],
   "source": [
    "def f(x):\n",
    "    return Series([x.min(),x.max()],index=['min','max'])"
   ]
  },
  {
   "cell_type": "code",
   "execution_count": null,
   "metadata": {},
   "outputs": [],
   "source": [
    "df.apply(f)"
   ]
  },
  {
   "cell_type": "code",
   "execution_count": null,
   "metadata": {},
   "outputs": [],
   "source": [
    "df.apply(f,axis=1)"
   ]
  },
  {
   "cell_type": "code",
   "execution_count": null,
   "metadata": {},
   "outputs": [],
   "source": [
    "def fmt(x):\n",
    "    return \"%04d\" % x\n",
    "df.applymap(fmt)"
   ]
  },
  {
   "cell_type": "code",
   "execution_count": null,
   "metadata": {},
   "outputs": [],
   "source": [
    "df['one'].map(fmt)"
   ]
  },
  {
   "cell_type": "markdown",
   "metadata": {},
   "source": [
    "## Sort and rank"
   ]
  },
  {
   "cell_type": "code",
   "execution_count": null,
   "metadata": {},
   "outputs": [],
   "source": [
    "df=DataFrame(np.random.randint(20,size=(4,4)), index=['WA','CA', 'NY', 'TX'],columns=['one','two','three','four'])\n",
    "df"
   ]
  },
  {
   "cell_type": "code",
   "execution_count": null,
   "metadata": {},
   "outputs": [],
   "source": [
    "df.sort_index()"
   ]
  },
  {
   "cell_type": "code",
   "execution_count": null,
   "metadata": {},
   "outputs": [],
   "source": [
    "df.sort_index(axis=1)"
   ]
  },
  {
   "cell_type": "code",
   "execution_count": null,
   "metadata": {},
   "outputs": [],
   "source": [
    "df.sort_values(by='two')"
   ]
  },
  {
   "cell_type": "code",
   "execution_count": null,
   "metadata": {},
   "outputs": [],
   "source": [
    "one=df['one'].copy()\n",
    "one"
   ]
  },
  {
   "cell_type": "code",
   "execution_count": null,
   "metadata": {},
   "outputs": [],
   "source": [
    "one.sort_index()"
   ]
  },
  {
   "cell_type": "code",
   "execution_count": null,
   "metadata": {},
   "outputs": [],
   "source": [
    "one.sort_values(ascending=False)"
   ]
  },
  {
   "cell_type": "code",
   "execution_count": null,
   "metadata": {},
   "outputs": [],
   "source": [
    "df.sort_values(by=['two', 'one'])"
   ]
  },
  {
   "cell_type": "code",
   "execution_count": null,
   "metadata": {},
   "outputs": [],
   "source": [
    "df.sort_values(axis=1, by='WA')"
   ]
  },
  {
   "cell_type": "code",
   "execution_count": null,
   "metadata": {},
   "outputs": [],
   "source": [
    "obj=Series([1,2.,np.nan,-10])\n",
    "obj"
   ]
  },
  {
   "cell_type": "code",
   "execution_count": null,
   "metadata": {},
   "outputs": [],
   "source": [
    "obj.sort_values()"
   ]
  },
  {
   "cell_type": "code",
   "execution_count": null,
   "metadata": {},
   "outputs": [],
   "source": [
    "obj.sort_values(ascending=False)"
   ]
  },
  {
   "cell_type": "code",
   "execution_count": null,
   "metadata": {},
   "outputs": [],
   "source": [
    "obj = Series([7,0,7,0,2,-3])\n",
    "obj.rank()"
   ]
  },
  {
   "cell_type": "code",
   "execution_count": null,
   "metadata": {},
   "outputs": [],
   "source": [
    "obj.rank(method='first')"
   ]
  },
  {
   "cell_type": "code",
   "execution_count": null,
   "metadata": {},
   "outputs": [],
   "source": [
    "obj.rank(method='min')"
   ]
  },
  {
   "cell_type": "code",
   "execution_count": null,
   "metadata": {},
   "outputs": [],
   "source": [
    "obj.rank(method='max')"
   ]
  },
  {
   "cell_type": "code",
   "execution_count": null,
   "metadata": {},
   "outputs": [],
   "source": [
    "obj.rank(method='dense')"
   ]
  },
  {
   "cell_type": "markdown",
   "metadata": {},
   "source": [
    "### Dup index"
   ]
  },
  {
   "cell_type": "code",
   "execution_count": null,
   "metadata": {},
   "outputs": [],
   "source": [
    "obj=Series(np.arange(5.),index=list('aabbc'))\n",
    "obj"
   ]
  },
  {
   "cell_type": "code",
   "execution_count": null,
   "metadata": {},
   "outputs": [],
   "source": [
    "obj['a']"
   ]
  },
  {
   "cell_type": "code",
   "execution_count": null,
   "metadata": {},
   "outputs": [],
   "source": [
    "obj['c']"
   ]
  },
  {
   "cell_type": "code",
   "execution_count": null,
   "metadata": {},
   "outputs": [],
   "source": [
    "df=DataFrame(np.random.randint(20,size=(5,5)), index=list('abcba'), columns='one,two,three,two,one'.split(','))\n",
    "df"
   ]
  },
  {
   "cell_type": "code",
   "execution_count": null,
   "metadata": {},
   "outputs": [],
   "source": [
    "df['one']"
   ]
  },
  {
   "cell_type": "code",
   "execution_count": null,
   "metadata": {},
   "outputs": [],
   "source": [
    "df['three']"
   ]
  },
  {
   "cell_type": "code",
   "execution_count": null,
   "metadata": {},
   "outputs": [],
   "source": [
    "df.loc['a']"
   ]
  },
  {
   "cell_type": "code",
   "execution_count": null,
   "metadata": {},
   "outputs": [],
   "source": [
    "df.loc['c']"
   ]
  },
  {
   "cell_type": "markdown",
   "metadata": {},
   "source": [
    "## Stat and describ"
   ]
  },
  {
   "cell_type": "code",
   "execution_count": null,
   "metadata": {},
   "outputs": [],
   "source": [
    "df=DataFrame(np.random.randint(20,size=(5,5)), index=list('abcba'), columns='one,two,three,two,one'.split(','))\n",
    "df"
   ]
  },
  {
   "cell_type": "code",
   "execution_count": null,
   "metadata": {},
   "outputs": [],
   "source": [
    "df.describe()"
   ]
  },
  {
   "cell_type": "code",
   "execution_count": null,
   "metadata": {},
   "outputs": [],
   "source": [
    "df.idxmax()"
   ]
  },
  {
   "cell_type": "markdown",
   "metadata": {},
   "source": [
    "## Correlation"
   ]
  },
  {
   "cell_type": "code",
   "execution_count": 367,
   "metadata": {
    "collapsed": true
   },
   "outputs": [],
   "source": [
    "import pandas_datareader.data as web"
   ]
  },
  {
   "cell_type": "code",
   "execution_count": 368,
   "metadata": {
    "collapsed": true
   },
   "outputs": [],
   "source": [
    "all_data = {ticker:web.get_data_yahoo(ticker) for ticker in ['IBM', 'AAPL', 'MSFT',\"AMZN\"]}"
   ]
  },
  {
   "cell_type": "code",
   "execution_count": 369,
   "metadata": {},
   "outputs": [
    {
     "data": {
      "text/plain": [
       "{'AAPL':                   High         Low        Open       Close       Volume  \\\n",
       " Date                                                                      \n",
       " 2014-12-29  114.769997  113.699997  113.790001  113.910004   27598900.0   \n",
       " 2014-12-30  113.919998  112.110001  113.639999  112.519997   29881500.0   \n",
       " 2014-12-31  113.129997  110.209999  112.820000  110.379997   41403400.0   \n",
       " 2015-01-02  111.440002  107.349998  111.389999  109.330002   53204600.0   \n",
       " 2015-01-05  108.650002  105.410004  108.290001  106.250000   64285500.0   \n",
       " 2015-01-06  107.430000  104.629997  106.540001  106.260002   65797100.0   \n",
       " 2015-01-07  108.199997  106.699997  107.199997  107.750000   40105900.0   \n",
       " 2015-01-08  112.150002  108.699997  109.230003  111.889999   59364500.0   \n",
       " 2015-01-09  113.250000  110.209999  112.669998  112.010002   53699500.0   \n",
       " 2015-01-12  112.629997  108.800003  112.599998  109.250000   49650800.0   \n",
       " 2015-01-13  112.800003  108.910004  111.430000  110.220001   67091900.0   \n",
       " 2015-01-14  110.489998  108.500000  109.040001  109.800003   48956600.0   \n",
       " 2015-01-15  110.059998  106.660004  110.000000  106.820000   60014000.0   \n",
       " 2015-01-16  107.580002  105.199997  107.029999  105.989998   78513300.0   \n",
       " 2015-01-20  108.970001  106.500000  107.839996  108.720001   49899900.0   \n",
       " 2015-01-21  111.059998  108.269997  108.949997  109.550003   48575900.0   \n",
       " 2015-01-22  112.470001  109.720001  110.260002  112.400002   53796400.0   \n",
       " 2015-01-23  113.750000  111.529999  112.300003  112.980003   46464800.0   \n",
       " 2015-01-26  114.360001  112.800003  113.739998  113.099998   55615000.0   \n",
       " 2015-01-27  112.480003  109.029999  112.419998  109.139999   95568700.0   \n",
       " 2015-01-28  118.120003  115.309998  117.629997  115.309998  146477100.0   \n",
       " 2015-01-29  119.190002  115.559998  116.320000  118.900002   84436400.0   \n",
       " 2015-01-30  120.000000  116.849998  118.400002  117.160004   83745500.0   \n",
       " 2015-02-02  119.169998  116.080002  118.050003  118.629997   62739100.0   \n",
       " 2015-02-03  119.089996  117.610001  118.500000  118.650002   51915700.0   \n",
       " 2015-02-04  120.510002  118.309998  118.500000  119.559998   70149700.0   \n",
       " 2015-02-05  120.230003  119.250000  120.019997  119.940002   42246200.0   \n",
       " 2015-02-06  120.250000  118.449997  120.019997  118.930000   43706600.0   \n",
       " 2015-02-09  119.839996  118.430000  118.550003  119.720001   38889800.0   \n",
       " 2015-02-10  122.150002  120.160004  120.169998  122.019997   62008500.0   \n",
       " ...                ...         ...         ...         ...          ...   \n",
       " 2019-11-14  264.880005  262.100006  263.750000  262.640015   22295700.0   \n",
       " 2019-11-15  265.779999  263.010010  263.679993  265.760010   25051600.0   \n",
       " 2019-11-18  267.429993  264.230011  265.799988  267.100006   21675800.0   \n",
       " 2019-11-19  268.000000  265.390015  267.899994  266.290009   19041800.0   \n",
       " 2019-11-20  266.079987  260.399994  265.540009  263.190002   26558600.0   \n",
       " 2019-11-21  264.010010  261.179993  263.690002  262.010010   30348800.0   \n",
       " 2019-11-22  263.179993  260.839996  262.589996  261.779999   16331300.0   \n",
       " 2019-11-25  266.440002  262.519989  262.709991  266.369995   21005100.0   \n",
       " 2019-11-26  267.160004  262.500000  266.940002  264.290009   26301900.0   \n",
       " 2019-11-27  267.980011  265.309998  265.579987  267.839996   16308900.0   \n",
       " 2019-11-29  268.000000  265.899994  266.600006  267.250000   11654400.0   \n",
       " 2019-12-02  268.250000  263.450012  267.269989  264.160004   23621800.0   \n",
       " 2019-12-03  259.529999  256.290009  258.309998  259.450012   28607600.0   \n",
       " 2019-12-04  263.309998  260.679993  261.070007  261.739990   16795400.0   \n",
       " 2019-12-05  265.890015  262.730011  263.790009  265.579987   18606100.0   \n",
       " 2019-12-06  271.000000  267.299988  267.480011  270.709991   26518900.0   \n",
       " 2019-12-09  270.799988  264.910004  270.000000  266.920013   32010600.0   \n",
       " 2019-12-10  270.070007  265.859985  268.600006  268.480011   22605100.0   \n",
       " 2019-12-11  271.100006  268.500000  268.809998  270.769989   19689200.0   \n",
       " 2019-12-12  272.559998  267.320007  267.779999  271.459991   34327600.0   \n",
       " 2019-12-13  275.299988  270.929993  271.459991  275.149994   33396900.0   \n",
       " 2019-12-16  280.790009  276.980011  277.000000  279.859985   32046500.0   \n",
       " 2019-12-17  281.769989  278.799988  279.570007  280.410004   28539600.0   \n",
       " 2019-12-18  281.899994  279.119995  279.799988  279.739990   29007100.0   \n",
       " 2019-12-19  281.179993  278.950012  279.500000  280.019989   24592300.0   \n",
       " 2019-12-20  282.649994  278.559998  282.230011  279.440002   68994500.0   \n",
       " 2019-12-23  284.250000  280.369995  280.529999  284.000000   24643000.0   \n",
       " 2019-12-24  284.890015  282.920013  284.690002  284.269989   12119700.0   \n",
       " 2019-12-26  289.980011  284.700012  284.820007  289.910004   23280300.0   \n",
       " 2019-12-27  293.970001  288.119995  291.119995  289.799988   36566500.0   \n",
       " \n",
       "              Adj Close  \n",
       " Date                    \n",
       " 2014-12-29  104.662506  \n",
       " 2014-12-30  103.385315  \n",
       " 2014-12-31  101.419060  \n",
       " 2015-01-02  100.454300  \n",
       " 2015-01-05   97.624336  \n",
       " 2015-01-06   97.633545  \n",
       " 2015-01-07   99.002556  \n",
       " 2015-01-08  102.806480  \n",
       " 2015-01-09  102.916725  \n",
       " 2015-01-12  100.380791  \n",
       " 2015-01-13  101.272049  \n",
       " 2015-01-14  100.886154  \n",
       " 2015-01-15   98.148056  \n",
       " 2015-01-16   97.385445  \n",
       " 2015-01-20   99.893822  \n",
       " 2015-01-21  100.656441  \n",
       " 2015-01-22  103.275063  \n",
       " 2015-01-23  103.807991  \n",
       " 2015-01-26  103.918228  \n",
       " 2015-01-27  100.279716  \n",
       " 2015-01-28  105.948822  \n",
       " 2015-01-29  109.247391  \n",
       " 2015-01-30  107.648643  \n",
       " 2015-02-02  108.999298  \n",
       " 2015-02-03  109.017654  \n",
       " 2015-02-04  109.853806  \n",
       " 2015-02-05  110.637886  \n",
       " 2015-02-06  109.706200  \n",
       " 2015-02-09  110.434944  \n",
       " 2015-02-10  112.556557  \n",
       " ...                ...  \n",
       " 2019-11-14  262.640015  \n",
       " 2019-11-15  265.760010  \n",
       " 2019-11-18  267.100006  \n",
       " 2019-11-19  266.290009  \n",
       " 2019-11-20  263.190002  \n",
       " 2019-11-21  262.010010  \n",
       " 2019-11-22  261.779999  \n",
       " 2019-11-25  266.369995  \n",
       " 2019-11-26  264.290009  \n",
       " 2019-11-27  267.839996  \n",
       " 2019-11-29  267.250000  \n",
       " 2019-12-02  264.160004  \n",
       " 2019-12-03  259.450012  \n",
       " 2019-12-04  261.739990  \n",
       " 2019-12-05  265.579987  \n",
       " 2019-12-06  270.709991  \n",
       " 2019-12-09  266.920013  \n",
       " 2019-12-10  268.480011  \n",
       " 2019-12-11  270.769989  \n",
       " 2019-12-12  271.459991  \n",
       " 2019-12-13  275.149994  \n",
       " 2019-12-16  279.859985  \n",
       " 2019-12-17  280.410004  \n",
       " 2019-12-18  279.739990  \n",
       " 2019-12-19  280.019989  \n",
       " 2019-12-20  279.440002  \n",
       " 2019-12-23  284.000000  \n",
       " 2019-12-24  284.269989  \n",
       " 2019-12-26  289.910004  \n",
       " 2019-12-27  289.799988  \n",
       " \n",
       " [1259 rows x 6 columns],\n",
       " 'AMZN':                    High          Low         Open        Close    Volume  \\\n",
       " Date                                                                       \n",
       " 2014-12-29   314.269989   306.579987   307.850006   312.040009   3009000   \n",
       " 2014-12-30   313.940002   309.339996   309.910004   310.299988   2093000   \n",
       " 2014-12-31   312.980011   310.010010   311.549988   310.350006   2048000   \n",
       " 2015-01-02   314.750000   306.959991   312.579987   308.519989   2783200   \n",
       " 2015-01-05   308.380005   300.850006   307.010010   302.190002   2774200   \n",
       " 2015-01-06   303.000000   292.380005   302.239990   295.290009   3519000   \n",
       " 2015-01-07   301.279999   295.329987   297.500000   298.420013   2640300   \n",
       " 2015-01-08   303.140015   296.109985   300.320007   300.459991   3088400   \n",
       " 2015-01-09   302.869995   296.679993   301.480011   296.929993   2592400   \n",
       " 2015-01-12   298.510010   289.279999   297.559998   291.410004   3421400   \n",
       " 2015-01-13   301.500000   293.230011   297.480011   294.739990   4136400   \n",
       " 2015-01-14   295.910004   286.500000   291.929993   293.269989   5538700   \n",
       " 2015-01-15   296.000000   286.820007   294.000000   286.950012   4419200   \n",
       " 2015-01-16   290.790009   285.250000   286.279999   290.739990   3478200   \n",
       " 2015-01-20   293.359985   286.390015   292.589996   289.440002   3075100   \n",
       " 2015-01-21   306.000000   287.260010   289.640015   297.250000  10065100   \n",
       " 2015-01-22   312.250000   300.000000   300.000000   310.320007   5362600   \n",
       " 2015-01-23   316.929993   307.720001   308.079987   312.390015   4496400   \n",
       " 2015-01-26   313.000000   307.519989   311.820007   309.660004   3169700   \n",
       " 2015-01-27   310.239990   302.630005   306.299988   306.750000   2920300   \n",
       " 2015-01-28   311.510010   303.799988   309.809998   303.910004   3063800   \n",
       " 2015-01-29   312.799988   299.329987   304.730011   311.779999   8656600   \n",
       " 2015-01-30   359.500000   340.739990   346.320007   354.529999  23856100   \n",
       " 2015-02-02   365.000000   350.010010   350.049988   364.470001  10231900   \n",
       " 2015-02-03   367.820007   360.209991   360.290009   363.549988   6212600   \n",
       " 2015-02-04   367.500000   358.230011   358.380005   364.750000   4169900   \n",
       " 2015-02-05   378.799988   365.899994   366.000000   373.890015   7247600   \n",
       " 2015-02-06   375.989990   371.010010   374.869995   374.279999   3892400   \n",
       " 2015-02-09   374.410004   367.200012   371.000000   370.559998   2724600   \n",
       " 2015-02-10   374.299988   368.510010   371.190002   373.000000   2287200   \n",
       " ...                 ...          ...          ...          ...       ...   \n",
       " 2019-11-14  1766.589966  1749.560059  1751.430054  1754.599976   2264800   \n",
       " 2019-11-15  1761.680054  1732.859985  1760.050049  1739.489990   3927600   \n",
       " 2019-11-18  1753.699951  1722.709961  1738.300049  1752.530029   2839500   \n",
       " 2019-11-19  1760.680054  1743.030029  1756.989990  1752.790039   2270800   \n",
       " 2019-11-20  1762.520020  1734.119995  1749.140015  1745.530029   2790000   \n",
       " 2019-11-21  1746.869995  1730.359985  1743.000000  1734.709961   2662900   \n",
       " 2019-11-22  1746.430054  1731.000000  1739.020020  1745.719971   2479100   \n",
       " 2019-11-25  1777.420044  1753.239990  1753.250000  1773.839966   3486200   \n",
       " 2019-11-26  1797.030029  1778.349976  1779.920044  1796.939941   3181200   \n",
       " 2019-11-27  1824.500000  1797.310059  1801.000000  1818.510010   3025600   \n",
       " 2019-11-29  1824.689941  1800.790039  1817.780029  1800.800049   1923400   \n",
       " 2019-12-02  1805.550049  1762.680054  1804.400024  1781.599976   3925600   \n",
       " 2019-12-03  1772.869995  1747.229980  1760.000000  1769.959961   3380900   \n",
       " 2019-12-04  1789.089966  1760.219971  1774.010010  1760.689941   2670100   \n",
       " 2019-12-05  1763.500000  1740.000000  1763.500000  1740.479980   2823800   \n",
       " 2019-12-06  1754.400024  1740.130005  1751.199951  1751.599976   3117400   \n",
       " 2019-12-09  1766.890015  1745.609985  1750.660034  1749.510010   2442800   \n",
       " 2019-12-10  1750.670044  1735.000000  1747.400024  1739.209961   2514300   \n",
       " 2019-12-11  1750.000000  1735.709961  1741.670044  1748.719971   2097600   \n",
       " 2019-12-12  1764.000000  1745.439941  1750.000000  1760.329956   3095900   \n",
       " 2019-12-13  1768.989990  1755.000000  1765.000000  1760.939941   2745700   \n",
       " 2019-12-16  1769.500000  1757.050049  1767.000000  1769.209961   3145200   \n",
       " 2019-12-17  1792.000000  1777.390015  1778.010010  1790.660034   3644400   \n",
       " 2019-12-18  1798.199951  1782.359985  1795.020020  1784.030029   3351400   \n",
       " 2019-12-19  1792.989990  1774.060059  1780.500000  1792.280029   2652800   \n",
       " 2019-12-20  1802.969971  1782.449951  1799.619995  1786.500000   5150800   \n",
       " 2019-12-23  1793.000000  1784.510010  1788.260010  1793.000000   2136400   \n",
       " 2019-12-24  1795.569946  1787.579956  1793.810059  1789.209961    881300   \n",
       " 2019-12-26  1870.459961  1799.500000  1801.010010  1868.770020   6005400   \n",
       " 2019-12-27  1901.400024  1866.010010  1882.920044  1869.800049   6186600   \n",
       " \n",
       "               Adj Close  \n",
       " Date                     \n",
       " 2014-12-29   312.040009  \n",
       " 2014-12-30   310.299988  \n",
       " 2014-12-31   310.350006  \n",
       " 2015-01-02   308.519989  \n",
       " 2015-01-05   302.190002  \n",
       " 2015-01-06   295.290009  \n",
       " 2015-01-07   298.420013  \n",
       " 2015-01-08   300.459991  \n",
       " 2015-01-09   296.929993  \n",
       " 2015-01-12   291.410004  \n",
       " 2015-01-13   294.739990  \n",
       " 2015-01-14   293.269989  \n",
       " 2015-01-15   286.950012  \n",
       " 2015-01-16   290.739990  \n",
       " 2015-01-20   289.440002  \n",
       " 2015-01-21   297.250000  \n",
       " 2015-01-22   310.320007  \n",
       " 2015-01-23   312.390015  \n",
       " 2015-01-26   309.660004  \n",
       " 2015-01-27   306.750000  \n",
       " 2015-01-28   303.910004  \n",
       " 2015-01-29   311.779999  \n",
       " 2015-01-30   354.529999  \n",
       " 2015-02-02   364.470001  \n",
       " 2015-02-03   363.549988  \n",
       " 2015-02-04   364.750000  \n",
       " 2015-02-05   373.890015  \n",
       " 2015-02-06   374.279999  \n",
       " 2015-02-09   370.559998  \n",
       " 2015-02-10   373.000000  \n",
       " ...                 ...  \n",
       " 2019-11-14  1754.599976  \n",
       " 2019-11-15  1739.489990  \n",
       " 2019-11-18  1752.530029  \n",
       " 2019-11-19  1752.790039  \n",
       " 2019-11-20  1745.530029  \n",
       " 2019-11-21  1734.709961  \n",
       " 2019-11-22  1745.719971  \n",
       " 2019-11-25  1773.839966  \n",
       " 2019-11-26  1796.939941  \n",
       " 2019-11-27  1818.510010  \n",
       " 2019-11-29  1800.800049  \n",
       " 2019-12-02  1781.599976  \n",
       " 2019-12-03  1769.959961  \n",
       " 2019-12-04  1760.689941  \n",
       " 2019-12-05  1740.479980  \n",
       " 2019-12-06  1751.599976  \n",
       " 2019-12-09  1749.510010  \n",
       " 2019-12-10  1739.209961  \n",
       " 2019-12-11  1748.719971  \n",
       " 2019-12-12  1760.329956  \n",
       " 2019-12-13  1760.939941  \n",
       " 2019-12-16  1769.209961  \n",
       " 2019-12-17  1790.660034  \n",
       " 2019-12-18  1784.030029  \n",
       " 2019-12-19  1792.280029  \n",
       " 2019-12-20  1786.500000  \n",
       " 2019-12-23  1793.000000  \n",
       " 2019-12-24  1789.209961  \n",
       " 2019-12-26  1868.770020  \n",
       " 2019-12-27  1869.800049  \n",
       " \n",
       " [1259 rows x 6 columns],\n",
       " 'IBM':                   High         Low        Open       Close      Volume  \\\n",
       " Date                                                                     \n",
       " 2014-12-29  162.339996  159.449997  162.000000  160.509995   3331800.0   \n",
       " 2014-12-30  160.820007  159.789993  160.020004  160.050003   2829900.0   \n",
       " 2014-12-31  161.500000  160.380005  160.410004  160.440002   4011900.0   \n",
       " 2015-01-02  163.309998  161.000000  161.309998  162.059998   5525500.0   \n",
       " 2015-01-05  161.270004  159.190002  161.270004  159.509995   4880400.0   \n",
       " 2015-01-06  159.960007  155.169998  159.669998  156.070007   6146700.0   \n",
       " 2015-01-07  157.199997  154.029999  157.199997  155.050003   4701800.0   \n",
       " 2015-01-08  159.039993  155.550003  156.240005  158.419998   4236800.0   \n",
       " 2015-01-09  160.339996  157.250000  158.419998  159.110001   4488300.0   \n",
       " 2015-01-12  159.250000  155.759995  159.000000  156.440002   4187600.0   \n",
       " 2015-01-13  159.970001  155.679993  157.259995  156.809998   4377500.0   \n",
       " 2015-01-14  156.490005  153.740005  154.860001  155.800003   4690300.0   \n",
       " 2015-01-15  156.970001  154.160004  156.690002  154.570007   4248400.0   \n",
       " 2015-01-16  157.630005  153.820007  153.820007  157.139999   5756000.0   \n",
       " 2015-01-20  157.330002  154.029999  156.699997  156.949997   8392800.0   \n",
       " 2015-01-21  154.500000  151.070007  153.029999  152.089996  11897100.0   \n",
       " 2015-01-22  155.720001  151.759995  151.940002  155.389999   6120100.0   \n",
       " 2015-01-23  157.600006  154.889999  155.029999  155.869995   4834800.0   \n",
       " 2015-01-26  159.460007  155.770004  158.259995  156.360001   7888100.0   \n",
       " 2015-01-27  155.089996  152.589996  154.940002  153.669998   5659600.0   \n",
       " 2015-01-28  154.529999  151.550003  154.000000  151.550003   4495900.0   \n",
       " 2015-01-29  155.580002  149.520004  151.380005  155.479996   8320800.0   \n",
       " 2015-01-30  155.240005  153.039993  153.910004  153.309998   6563600.0   \n",
       " 2015-02-02  154.660004  151.509995  154.000000  154.660004   4712200.0   \n",
       " 2015-02-03  158.600006  154.750000  154.750000  158.470001   5539400.0   \n",
       " 2015-02-04  158.710007  156.699997  157.210007  156.960007   3678500.0   \n",
       " 2015-02-05  158.589996  157.149994  157.289993  157.910004   5253600.0   \n",
       " 2015-02-06  158.080002  156.229996  157.339996  156.720001   3256500.0   \n",
       " 2015-02-09  157.500000  155.399994  156.000000  155.750000   3057700.0   \n",
       " 2015-02-10  158.559998  155.080002  156.740005  158.559998   4440600.0   \n",
       " ...                ...         ...         ...         ...         ...   \n",
       " 2019-11-14  134.330002  133.330002  134.130005  134.000000   4231300.0   \n",
       " 2019-11-15  135.119995  134.029999  134.389999  134.399994   3262500.0   \n",
       " 2019-11-18  134.479996  133.229996  134.300003  134.309998   3210400.0   \n",
       " 2019-11-19  135.380005  134.460007  134.880005  134.520004   2995000.0   \n",
       " 2019-11-20  134.460007  132.750000  134.059998  133.199997   4138200.0   \n",
       " 2019-11-21  134.169998  132.979996  133.399994  133.839996   3345300.0   \n",
       " 2019-11-22  134.649994  133.589996  134.190002  134.339996   3297500.0   \n",
       " 2019-11-25  136.000000  134.350006  134.470001  135.970001   2590100.0   \n",
       " 2019-11-26  136.149994  134.770004  136.149994  135.089996   3793200.0   \n",
       " 2019-11-27  135.710007  133.619995  135.350006  133.770004   3280900.0   \n",
       " 2019-11-29  134.520004  133.029999  133.600006  134.449997   1825300.0   \n",
       " 2019-12-02  134.500000  132.479996  134.449997  132.910004   3067100.0   \n",
       " 2019-12-03  132.440002  130.690002  132.000000  132.119995   3642500.0   \n",
       " 2019-12-04  133.679993  131.960007  132.860001  131.990005   3530000.0   \n",
       " 2019-12-05  133.240005  131.630005  132.990005  131.910004   3595400.0   \n",
       " 2019-12-06  133.889999  132.699997  132.750000  133.220001   3437500.0   \n",
       " 2019-12-09  134.589996  133.259995  133.350006  133.919998   2968500.0   \n",
       " 2019-12-10  134.839996  133.559998  133.919998  133.910004   3480400.0   \n",
       " 2019-12-11  134.509995  133.669998  134.110001  133.759995   3953300.0   \n",
       " 2019-12-12  135.660004  133.660004  133.699997  135.320007   4824100.0   \n",
       " 2019-12-13  135.500000  134.009995  134.750000  134.210007   2535000.0   \n",
       " 2019-12-16  135.449997  133.850006  134.940002  134.130005   3049200.0   \n",
       " 2019-12-17  134.690002  133.460007  134.279999  134.220001   2907200.0   \n",
       " 2019-12-18  135.000000  134.149994  134.550003  134.410004   3101800.0   \n",
       " 2019-12-19  134.729996  134.190002  134.460007  134.559998   3866500.0   \n",
       " 2019-12-20  136.419998  134.949997  135.740005  135.589996   7111800.0   \n",
       " 2019-12-23  136.149994  135.000000  135.779999  135.550003   2803200.0   \n",
       " 2019-12-24  135.619995  134.610001  135.610001  134.979996   1202100.0   \n",
       " 2019-12-26  135.309998  134.649994  134.979996  134.910004   2129700.0   \n",
       " 2019-12-27  135.750000  134.869995  135.000000  135.270004   2752200.0   \n",
       " \n",
       "              Adj Close  \n",
       " Date                    \n",
       " 2014-12-29  129.342056  \n",
       " 2014-12-30  128.971390  \n",
       " 2014-12-31  129.285675  \n",
       " 2015-01-02  130.591095  \n",
       " 2015-01-05  128.536270  \n",
       " 2015-01-06  125.764221  \n",
       " 2015-01-07  124.942291  \n",
       " 2015-01-08  127.657913  \n",
       " 2015-01-09  128.213913  \n",
       " 2015-01-12  126.062386  \n",
       " 2015-01-13  126.360535  \n",
       " 2015-01-14  125.546654  \n",
       " 2015-01-15  124.555489  \n",
       " 2015-01-16  126.626427  \n",
       " 2015-01-20  126.473312  \n",
       " 2015-01-21  122.557053  \n",
       " 2015-01-22  125.216255  \n",
       " 2015-01-23  125.603058  \n",
       " 2015-01-26  125.997902  \n",
       " 2015-01-27  123.830261  \n",
       " 2015-01-28  122.121933  \n",
       " 2015-01-29  125.288780  \n",
       " 2015-01-30  123.540154  \n",
       " 2015-02-02  124.628014  \n",
       " 2015-02-03  127.698143  \n",
       " 2015-02-04  126.481407  \n",
       " 2015-02-05  127.246925  \n",
       " 2015-02-06  127.173882  \n",
       " 2015-02-09  126.386787  \n",
       " 2015-02-10  128.667007  \n",
       " ...                ...  \n",
       " 2019-11-14  134.000000  \n",
       " 2019-11-15  134.399994  \n",
       " 2019-11-18  134.309998  \n",
       " 2019-11-19  134.520004  \n",
       " 2019-11-20  133.199997  \n",
       " 2019-11-21  133.839996  \n",
       " 2019-11-22  134.339996  \n",
       " 2019-11-25  135.970001  \n",
       " 2019-11-26  135.089996  \n",
       " 2019-11-27  133.770004  \n",
       " 2019-11-29  134.449997  \n",
       " 2019-12-02  132.910004  \n",
       " 2019-12-03  132.119995  \n",
       " 2019-12-04  131.990005  \n",
       " 2019-12-05  131.910004  \n",
       " 2019-12-06  133.220001  \n",
       " 2019-12-09  133.919998  \n",
       " 2019-12-10  133.910004  \n",
       " 2019-12-11  133.759995  \n",
       " 2019-12-12  135.320007  \n",
       " 2019-12-13  134.210007  \n",
       " 2019-12-16  134.130005  \n",
       " 2019-12-17  134.220001  \n",
       " 2019-12-18  134.410004  \n",
       " 2019-12-19  134.559998  \n",
       " 2019-12-20  135.589996  \n",
       " 2019-12-23  135.550003  \n",
       " 2019-12-24  134.979996  \n",
       " 2019-12-26  134.910004  \n",
       " 2019-12-27  135.270004  \n",
       " \n",
       " [1259 rows x 6 columns],\n",
       " 'MSFT':                   High         Low        Open       Close       Volume  \\\n",
       " Date                                                                      \n",
       " 2014-12-29   47.779999   47.259998   47.700001   47.450001   14439500.0   \n",
       " 2014-12-30   47.619999   46.840000   47.439999   47.020000   16384700.0   \n",
       " 2014-12-31   47.439999   46.450001   46.730000   46.450001   21552500.0   \n",
       " 2015-01-02   47.419998   46.540001   46.660000   46.759998   27913900.0   \n",
       " 2015-01-05   46.730000   46.250000   46.369999   46.330002   39673900.0   \n",
       " 2015-01-06   46.750000   45.540001   46.380001   45.650002   36447900.0   \n",
       " 2015-01-07   46.459999   45.490002   45.980000   46.230000   29114100.0   \n",
       " 2015-01-08   47.750000   46.720001   46.750000   47.590000   29645200.0   \n",
       " 2015-01-09   47.820000   46.900002   47.610001   47.189999   23944200.0   \n",
       " 2015-01-12   47.540001   46.360001   47.419998   46.599998   23651900.0   \n",
       " 2015-01-13   47.910000   46.060001   46.970001   46.360001   35270600.0   \n",
       " 2015-01-14   46.240002   45.619999   45.959999   45.959999   29719600.0   \n",
       " 2015-01-15   46.380001   45.410000   46.220001   45.480000   32750800.0   \n",
       " 2015-01-16   46.279999   45.169998   45.310001   46.240002   35695300.0   \n",
       " 2015-01-20   46.650002   45.570000   46.299999   46.389999   36161900.0   \n",
       " 2015-01-21   46.139999   45.480000   45.939999   45.919998   39081100.0   \n",
       " 2015-01-22   47.139999   46.080002   46.380001   47.130001   35898000.0   \n",
       " 2015-01-23   47.389999   46.799999   47.360001   47.180000   26211600.0   \n",
       " 2015-01-26   47.130001   46.240002   47.000000   47.009998   42525500.0   \n",
       " 2015-01-27   43.200001   42.110001   42.950001   42.660000  169164000.0   \n",
       " 2015-01-28   42.790001   41.160000   42.740002   41.189999   84507100.0   \n",
       " 2015-01-29   42.119999   40.790001   40.930000   42.009998   63585300.0   \n",
       " 2015-01-30   41.580002   40.349998   41.549999   40.400002   78004900.0   \n",
       " 2015-02-02   41.369999   40.230000   40.590000   41.279999   50352500.0   \n",
       " 2015-02-03   41.930000   41.049999   41.630001   41.599998   52082400.0   \n",
       " 2015-02-04   42.209999   41.360001   41.939999   41.840000   41614800.0   \n",
       " 2015-02-05   42.639999   41.860001   42.220001   42.450001   36548200.0   \n",
       " 2015-02-06   42.790001   42.150002   42.680000   42.410000   34616600.0   \n",
       " 2015-02-09   42.740002   42.209999   42.240002   42.360001   31381100.0   \n",
       " 2015-02-10   42.770000   42.180000   42.740002   42.599998   29670700.0   \n",
       " ...                ...         ...         ...         ...          ...   \n",
       " 2019-11-14  148.410004  147.000000  147.020004  148.059998   19729800.0   \n",
       " 2019-11-15  149.990005  148.270004  148.929993  149.970001   23485700.0   \n",
       " 2019-11-18  150.550003  148.979996  150.070007  150.339996   21534000.0   \n",
       " 2019-11-19  151.330002  150.199997  150.880005  150.389999   23935700.0   \n",
       " 2019-11-20  150.839996  148.460007  150.309998  149.619995   25696800.0   \n",
       " 2019-11-21  149.800003  148.500000  149.399994  149.479996   18576100.0   \n",
       " 2019-11-22  150.300003  148.820007  150.070007  149.589996   15901800.0   \n",
       " 2019-11-25  151.350006  149.919998  150.000000  151.229996   22420900.0   \n",
       " 2019-11-26  152.419998  151.320007  151.360001  152.029999   24620100.0   \n",
       " 2019-11-27  152.500000  151.520004  152.330002  152.320007   15184400.0   \n",
       " 2019-11-29  152.300003  151.279999  152.100006  151.380005   11977300.0   \n",
       " 2019-12-02  151.830002  148.320007  151.809998  149.550003   27418400.0   \n",
       " 2019-12-03  149.429993  146.649994  147.490005  149.309998   24066000.0   \n",
       " 2019-12-04  150.179993  149.199997  150.139999  149.850006   17574700.0   \n",
       " 2019-12-05  150.320007  149.479996  150.050003  149.929993   17869100.0   \n",
       " 2019-12-06  151.869995  150.270004  150.990005  151.750000   16403500.0   \n",
       " 2019-12-09  152.210007  150.910004  151.070007  151.360001   16687400.0   \n",
       " 2019-12-10  151.889999  150.759995  151.289993  151.130005   16476100.0   \n",
       " 2019-12-11  151.869995  150.330002  151.539993  151.699997   18856600.0   \n",
       " 2019-12-12  153.440002  151.020004  151.649994  153.240005   24612100.0   \n",
       " 2019-12-13  154.889999  152.830002  153.000000  154.529999   23845400.0   \n",
       " 2019-12-16  155.899994  154.820007  155.110001  155.529999   24144200.0   \n",
       " 2019-12-17  155.710007  154.449997  155.449997  154.690002   25425600.0   \n",
       " 2019-12-18  155.479996  154.179993  154.300003  154.369995   24129200.0   \n",
       " 2019-12-19  155.770004  153.750000  154.000000  155.710007   24958900.0   \n",
       " 2019-12-20  158.490005  156.289993  157.350006  157.410004   53477500.0   \n",
       " 2019-12-23  158.119995  157.270004  158.119995  157.410004   17718200.0   \n",
       " 2019-12-24  157.710007  157.119995  157.479996  157.380005    8989200.0   \n",
       " 2019-12-26  158.729996  157.399994  157.559998  158.669998   14520600.0   \n",
       " 2019-12-27  159.550003  158.220001  159.449997  158.960007   18412800.0   \n",
       " \n",
       "              Adj Close  \n",
       " Date                    \n",
       " 2014-12-29   42.598644  \n",
       " 2014-12-30   42.212612  \n",
       " 2014-12-31   41.700874  \n",
       " 2015-01-02   41.979183  \n",
       " 2015-01-05   41.593143  \n",
       " 2015-01-06   40.982681  \n",
       " 2015-01-07   41.503380  \n",
       " 2015-01-08   42.724323  \n",
       " 2015-01-09   42.365219  \n",
       " 2015-01-12   41.835537  \n",
       " 2015-01-13   41.620083  \n",
       " 2015-01-14   41.260979  \n",
       " 2015-01-15   40.830055  \n",
       " 2015-01-16   41.512352  \n",
       " 2015-01-20   41.647015  \n",
       " 2015-01-21   41.225071  \n",
       " 2015-01-22   42.311356  \n",
       " 2015-01-23   42.356243  \n",
       " 2015-01-26   42.203625  \n",
       " 2015-01-27   38.298370  \n",
       " 2015-01-28   36.978668  \n",
       " 2015-01-29   37.714828  \n",
       " 2015-01-30   36.269444  \n",
       " 2015-02-02   37.059467  \n",
       " 2015-02-03   37.346756  \n",
       " 2015-02-04   37.562218  \n",
       " 2015-02-05   38.109848  \n",
       " 2015-02-06   38.073933  \n",
       " 2015-02-09   38.029053  \n",
       " 2015-02-10   38.244511  \n",
       " ...                ...  \n",
       " 2019-11-14  147.557892  \n",
       " 2019-11-15  149.461426  \n",
       " 2019-11-18  149.830170  \n",
       " 2019-11-19  149.879990  \n",
       " 2019-11-20  149.619995  \n",
       " 2019-11-21  149.479996  \n",
       " 2019-11-22  149.589996  \n",
       " 2019-11-25  151.229996  \n",
       " 2019-11-26  152.029999  \n",
       " 2019-11-27  152.320007  \n",
       " 2019-11-29  151.380005  \n",
       " 2019-12-02  149.550003  \n",
       " 2019-12-03  149.309998  \n",
       " 2019-12-04  149.850006  \n",
       " 2019-12-05  149.929993  \n",
       " 2019-12-06  151.750000  \n",
       " 2019-12-09  151.360001  \n",
       " 2019-12-10  151.130005  \n",
       " 2019-12-11  151.699997  \n",
       " 2019-12-12  153.240005  \n",
       " 2019-12-13  154.529999  \n",
       " 2019-12-16  155.529999  \n",
       " 2019-12-17  154.690002  \n",
       " 2019-12-18  154.369995  \n",
       " 2019-12-19  155.710007  \n",
       " 2019-12-20  157.410004  \n",
       " 2019-12-23  157.410004  \n",
       " 2019-12-24  157.380005  \n",
       " 2019-12-26  158.669998  \n",
       " 2019-12-27  158.960007  \n",
       " \n",
       " [1259 rows x 6 columns]}"
      ]
     },
     "execution_count": 369,
     "metadata": {},
     "output_type": "execute_result"
    }
   ],
   "source": [
    "all_data"
   ]
  },
  {
   "cell_type": "code",
   "execution_count": 371,
   "metadata": {},
   "outputs": [
    {
     "data": {
      "text/html": [
       "<div>\n",
       "<style>\n",
       "    .dataframe thead tr:only-child th {\n",
       "        text-align: right;\n",
       "    }\n",
       "\n",
       "    .dataframe thead th {\n",
       "        text-align: left;\n",
       "    }\n",
       "\n",
       "    .dataframe tbody tr th {\n",
       "        vertical-align: top;\n",
       "    }\n",
       "</style>\n",
       "<table border=\"1\" class=\"dataframe\">\n",
       "  <thead>\n",
       "    <tr style=\"text-align: right;\">\n",
       "      <th></th>\n",
       "      <th>AAPL</th>\n",
       "      <th>AMZN</th>\n",
       "      <th>IBM</th>\n",
       "      <th>MSFT</th>\n",
       "    </tr>\n",
       "    <tr>\n",
       "      <th>Date</th>\n",
       "      <th></th>\n",
       "      <th></th>\n",
       "      <th></th>\n",
       "      <th></th>\n",
       "    </tr>\n",
       "  </thead>\n",
       "  <tbody>\n",
       "    <tr>\n",
       "      <th>2014-12-29</th>\n",
       "      <td>113.910004</td>\n",
       "      <td>312.040009</td>\n",
       "      <td>160.509995</td>\n",
       "      <td>47.450001</td>\n",
       "    </tr>\n",
       "    <tr>\n",
       "      <th>2014-12-30</th>\n",
       "      <td>112.519997</td>\n",
       "      <td>310.299988</td>\n",
       "      <td>160.050003</td>\n",
       "      <td>47.020000</td>\n",
       "    </tr>\n",
       "    <tr>\n",
       "      <th>2014-12-31</th>\n",
       "      <td>110.379997</td>\n",
       "      <td>310.350006</td>\n",
       "      <td>160.440002</td>\n",
       "      <td>46.450001</td>\n",
       "    </tr>\n",
       "    <tr>\n",
       "      <th>2015-01-02</th>\n",
       "      <td>109.330002</td>\n",
       "      <td>308.519989</td>\n",
       "      <td>162.059998</td>\n",
       "      <td>46.759998</td>\n",
       "    </tr>\n",
       "    <tr>\n",
       "      <th>2015-01-05</th>\n",
       "      <td>106.250000</td>\n",
       "      <td>302.190002</td>\n",
       "      <td>159.509995</td>\n",
       "      <td>46.330002</td>\n",
       "    </tr>\n",
       "    <tr>\n",
       "      <th>2015-01-06</th>\n",
       "      <td>106.260002</td>\n",
       "      <td>295.290009</td>\n",
       "      <td>156.070007</td>\n",
       "      <td>45.650002</td>\n",
       "    </tr>\n",
       "    <tr>\n",
       "      <th>2015-01-07</th>\n",
       "      <td>107.750000</td>\n",
       "      <td>298.420013</td>\n",
       "      <td>155.050003</td>\n",
       "      <td>46.230000</td>\n",
       "    </tr>\n",
       "    <tr>\n",
       "      <th>2015-01-08</th>\n",
       "      <td>111.889999</td>\n",
       "      <td>300.459991</td>\n",
       "      <td>158.419998</td>\n",
       "      <td>47.590000</td>\n",
       "    </tr>\n",
       "    <tr>\n",
       "      <th>2015-01-09</th>\n",
       "      <td>112.010002</td>\n",
       "      <td>296.929993</td>\n",
       "      <td>159.110001</td>\n",
       "      <td>47.189999</td>\n",
       "    </tr>\n",
       "    <tr>\n",
       "      <th>2015-01-12</th>\n",
       "      <td>109.250000</td>\n",
       "      <td>291.410004</td>\n",
       "      <td>156.440002</td>\n",
       "      <td>46.599998</td>\n",
       "    </tr>\n",
       "    <tr>\n",
       "      <th>2015-01-13</th>\n",
       "      <td>110.220001</td>\n",
       "      <td>294.739990</td>\n",
       "      <td>156.809998</td>\n",
       "      <td>46.360001</td>\n",
       "    </tr>\n",
       "    <tr>\n",
       "      <th>2015-01-14</th>\n",
       "      <td>109.800003</td>\n",
       "      <td>293.269989</td>\n",
       "      <td>155.800003</td>\n",
       "      <td>45.959999</td>\n",
       "    </tr>\n",
       "    <tr>\n",
       "      <th>2015-01-15</th>\n",
       "      <td>106.820000</td>\n",
       "      <td>286.950012</td>\n",
       "      <td>154.570007</td>\n",
       "      <td>45.480000</td>\n",
       "    </tr>\n",
       "    <tr>\n",
       "      <th>2015-01-16</th>\n",
       "      <td>105.989998</td>\n",
       "      <td>290.739990</td>\n",
       "      <td>157.139999</td>\n",
       "      <td>46.240002</td>\n",
       "    </tr>\n",
       "    <tr>\n",
       "      <th>2015-01-20</th>\n",
       "      <td>108.720001</td>\n",
       "      <td>289.440002</td>\n",
       "      <td>156.949997</td>\n",
       "      <td>46.389999</td>\n",
       "    </tr>\n",
       "    <tr>\n",
       "      <th>2015-01-21</th>\n",
       "      <td>109.550003</td>\n",
       "      <td>297.250000</td>\n",
       "      <td>152.089996</td>\n",
       "      <td>45.919998</td>\n",
       "    </tr>\n",
       "    <tr>\n",
       "      <th>2015-01-22</th>\n",
       "      <td>112.400002</td>\n",
       "      <td>310.320007</td>\n",
       "      <td>155.389999</td>\n",
       "      <td>47.130001</td>\n",
       "    </tr>\n",
       "    <tr>\n",
       "      <th>2015-01-23</th>\n",
       "      <td>112.980003</td>\n",
       "      <td>312.390015</td>\n",
       "      <td>155.869995</td>\n",
       "      <td>47.180000</td>\n",
       "    </tr>\n",
       "    <tr>\n",
       "      <th>2015-01-26</th>\n",
       "      <td>113.099998</td>\n",
       "      <td>309.660004</td>\n",
       "      <td>156.360001</td>\n",
       "      <td>47.009998</td>\n",
       "    </tr>\n",
       "    <tr>\n",
       "      <th>2015-01-27</th>\n",
       "      <td>109.139999</td>\n",
       "      <td>306.750000</td>\n",
       "      <td>153.669998</td>\n",
       "      <td>42.660000</td>\n",
       "    </tr>\n",
       "    <tr>\n",
       "      <th>2015-01-28</th>\n",
       "      <td>115.309998</td>\n",
       "      <td>303.910004</td>\n",
       "      <td>151.550003</td>\n",
       "      <td>41.189999</td>\n",
       "    </tr>\n",
       "    <tr>\n",
       "      <th>2015-01-29</th>\n",
       "      <td>118.900002</td>\n",
       "      <td>311.779999</td>\n",
       "      <td>155.479996</td>\n",
       "      <td>42.009998</td>\n",
       "    </tr>\n",
       "    <tr>\n",
       "      <th>2015-01-30</th>\n",
       "      <td>117.160004</td>\n",
       "      <td>354.529999</td>\n",
       "      <td>153.309998</td>\n",
       "      <td>40.400002</td>\n",
       "    </tr>\n",
       "    <tr>\n",
       "      <th>2015-02-02</th>\n",
       "      <td>118.629997</td>\n",
       "      <td>364.470001</td>\n",
       "      <td>154.660004</td>\n",
       "      <td>41.279999</td>\n",
       "    </tr>\n",
       "    <tr>\n",
       "      <th>2015-02-03</th>\n",
       "      <td>118.650002</td>\n",
       "      <td>363.549988</td>\n",
       "      <td>158.470001</td>\n",
       "      <td>41.599998</td>\n",
       "    </tr>\n",
       "    <tr>\n",
       "      <th>2015-02-04</th>\n",
       "      <td>119.559998</td>\n",
       "      <td>364.750000</td>\n",
       "      <td>156.960007</td>\n",
       "      <td>41.840000</td>\n",
       "    </tr>\n",
       "    <tr>\n",
       "      <th>2015-02-05</th>\n",
       "      <td>119.940002</td>\n",
       "      <td>373.890015</td>\n",
       "      <td>157.910004</td>\n",
       "      <td>42.450001</td>\n",
       "    </tr>\n",
       "    <tr>\n",
       "      <th>2015-02-06</th>\n",
       "      <td>118.930000</td>\n",
       "      <td>374.279999</td>\n",
       "      <td>156.720001</td>\n",
       "      <td>42.410000</td>\n",
       "    </tr>\n",
       "    <tr>\n",
       "      <th>2015-02-09</th>\n",
       "      <td>119.720001</td>\n",
       "      <td>370.559998</td>\n",
       "      <td>155.750000</td>\n",
       "      <td>42.360001</td>\n",
       "    </tr>\n",
       "    <tr>\n",
       "      <th>2015-02-10</th>\n",
       "      <td>122.019997</td>\n",
       "      <td>373.000000</td>\n",
       "      <td>158.559998</td>\n",
       "      <td>42.599998</td>\n",
       "    </tr>\n",
       "    <tr>\n",
       "      <th>...</th>\n",
       "      <td>...</td>\n",
       "      <td>...</td>\n",
       "      <td>...</td>\n",
       "      <td>...</td>\n",
       "    </tr>\n",
       "    <tr>\n",
       "      <th>2019-11-14</th>\n",
       "      <td>262.640015</td>\n",
       "      <td>1754.599976</td>\n",
       "      <td>134.000000</td>\n",
       "      <td>148.059998</td>\n",
       "    </tr>\n",
       "    <tr>\n",
       "      <th>2019-11-15</th>\n",
       "      <td>265.760010</td>\n",
       "      <td>1739.489990</td>\n",
       "      <td>134.399994</td>\n",
       "      <td>149.970001</td>\n",
       "    </tr>\n",
       "    <tr>\n",
       "      <th>2019-11-18</th>\n",
       "      <td>267.100006</td>\n",
       "      <td>1752.530029</td>\n",
       "      <td>134.309998</td>\n",
       "      <td>150.339996</td>\n",
       "    </tr>\n",
       "    <tr>\n",
       "      <th>2019-11-19</th>\n",
       "      <td>266.290009</td>\n",
       "      <td>1752.790039</td>\n",
       "      <td>134.520004</td>\n",
       "      <td>150.389999</td>\n",
       "    </tr>\n",
       "    <tr>\n",
       "      <th>2019-11-20</th>\n",
       "      <td>263.190002</td>\n",
       "      <td>1745.530029</td>\n",
       "      <td>133.199997</td>\n",
       "      <td>149.619995</td>\n",
       "    </tr>\n",
       "    <tr>\n",
       "      <th>2019-11-21</th>\n",
       "      <td>262.010010</td>\n",
       "      <td>1734.709961</td>\n",
       "      <td>133.839996</td>\n",
       "      <td>149.479996</td>\n",
       "    </tr>\n",
       "    <tr>\n",
       "      <th>2019-11-22</th>\n",
       "      <td>261.779999</td>\n",
       "      <td>1745.719971</td>\n",
       "      <td>134.339996</td>\n",
       "      <td>149.589996</td>\n",
       "    </tr>\n",
       "    <tr>\n",
       "      <th>2019-11-25</th>\n",
       "      <td>266.369995</td>\n",
       "      <td>1773.839966</td>\n",
       "      <td>135.970001</td>\n",
       "      <td>151.229996</td>\n",
       "    </tr>\n",
       "    <tr>\n",
       "      <th>2019-11-26</th>\n",
       "      <td>264.290009</td>\n",
       "      <td>1796.939941</td>\n",
       "      <td>135.089996</td>\n",
       "      <td>152.029999</td>\n",
       "    </tr>\n",
       "    <tr>\n",
       "      <th>2019-11-27</th>\n",
       "      <td>267.839996</td>\n",
       "      <td>1818.510010</td>\n",
       "      <td>133.770004</td>\n",
       "      <td>152.320007</td>\n",
       "    </tr>\n",
       "    <tr>\n",
       "      <th>2019-11-29</th>\n",
       "      <td>267.250000</td>\n",
       "      <td>1800.800049</td>\n",
       "      <td>134.449997</td>\n",
       "      <td>151.380005</td>\n",
       "    </tr>\n",
       "    <tr>\n",
       "      <th>2019-12-02</th>\n",
       "      <td>264.160004</td>\n",
       "      <td>1781.599976</td>\n",
       "      <td>132.910004</td>\n",
       "      <td>149.550003</td>\n",
       "    </tr>\n",
       "    <tr>\n",
       "      <th>2019-12-03</th>\n",
       "      <td>259.450012</td>\n",
       "      <td>1769.959961</td>\n",
       "      <td>132.119995</td>\n",
       "      <td>149.309998</td>\n",
       "    </tr>\n",
       "    <tr>\n",
       "      <th>2019-12-04</th>\n",
       "      <td>261.739990</td>\n",
       "      <td>1760.689941</td>\n",
       "      <td>131.990005</td>\n",
       "      <td>149.850006</td>\n",
       "    </tr>\n",
       "    <tr>\n",
       "      <th>2019-12-05</th>\n",
       "      <td>265.579987</td>\n",
       "      <td>1740.479980</td>\n",
       "      <td>131.910004</td>\n",
       "      <td>149.929993</td>\n",
       "    </tr>\n",
       "    <tr>\n",
       "      <th>2019-12-06</th>\n",
       "      <td>270.709991</td>\n",
       "      <td>1751.599976</td>\n",
       "      <td>133.220001</td>\n",
       "      <td>151.750000</td>\n",
       "    </tr>\n",
       "    <tr>\n",
       "      <th>2019-12-09</th>\n",
       "      <td>266.920013</td>\n",
       "      <td>1749.510010</td>\n",
       "      <td>133.919998</td>\n",
       "      <td>151.360001</td>\n",
       "    </tr>\n",
       "    <tr>\n",
       "      <th>2019-12-10</th>\n",
       "      <td>268.480011</td>\n",
       "      <td>1739.209961</td>\n",
       "      <td>133.910004</td>\n",
       "      <td>151.130005</td>\n",
       "    </tr>\n",
       "    <tr>\n",
       "      <th>2019-12-11</th>\n",
       "      <td>270.769989</td>\n",
       "      <td>1748.719971</td>\n",
       "      <td>133.759995</td>\n",
       "      <td>151.699997</td>\n",
       "    </tr>\n",
       "    <tr>\n",
       "      <th>2019-12-12</th>\n",
       "      <td>271.459991</td>\n",
       "      <td>1760.329956</td>\n",
       "      <td>135.320007</td>\n",
       "      <td>153.240005</td>\n",
       "    </tr>\n",
       "    <tr>\n",
       "      <th>2019-12-13</th>\n",
       "      <td>275.149994</td>\n",
       "      <td>1760.939941</td>\n",
       "      <td>134.210007</td>\n",
       "      <td>154.529999</td>\n",
       "    </tr>\n",
       "    <tr>\n",
       "      <th>2019-12-16</th>\n",
       "      <td>279.859985</td>\n",
       "      <td>1769.209961</td>\n",
       "      <td>134.130005</td>\n",
       "      <td>155.529999</td>\n",
       "    </tr>\n",
       "    <tr>\n",
       "      <th>2019-12-17</th>\n",
       "      <td>280.410004</td>\n",
       "      <td>1790.660034</td>\n",
       "      <td>134.220001</td>\n",
       "      <td>154.690002</td>\n",
       "    </tr>\n",
       "    <tr>\n",
       "      <th>2019-12-18</th>\n",
       "      <td>279.739990</td>\n",
       "      <td>1784.030029</td>\n",
       "      <td>134.410004</td>\n",
       "      <td>154.369995</td>\n",
       "    </tr>\n",
       "    <tr>\n",
       "      <th>2019-12-19</th>\n",
       "      <td>280.019989</td>\n",
       "      <td>1792.280029</td>\n",
       "      <td>134.559998</td>\n",
       "      <td>155.710007</td>\n",
       "    </tr>\n",
       "    <tr>\n",
       "      <th>2019-12-20</th>\n",
       "      <td>279.440002</td>\n",
       "      <td>1786.500000</td>\n",
       "      <td>135.589996</td>\n",
       "      <td>157.410004</td>\n",
       "    </tr>\n",
       "    <tr>\n",
       "      <th>2019-12-23</th>\n",
       "      <td>284.000000</td>\n",
       "      <td>1793.000000</td>\n",
       "      <td>135.550003</td>\n",
       "      <td>157.410004</td>\n",
       "    </tr>\n",
       "    <tr>\n",
       "      <th>2019-12-24</th>\n",
       "      <td>284.269989</td>\n",
       "      <td>1789.209961</td>\n",
       "      <td>134.979996</td>\n",
       "      <td>157.380005</td>\n",
       "    </tr>\n",
       "    <tr>\n",
       "      <th>2019-12-26</th>\n",
       "      <td>289.910004</td>\n",
       "      <td>1868.770020</td>\n",
       "      <td>134.910004</td>\n",
       "      <td>158.669998</td>\n",
       "    </tr>\n",
       "    <tr>\n",
       "      <th>2019-12-27</th>\n",
       "      <td>289.799988</td>\n",
       "      <td>1869.800049</td>\n",
       "      <td>135.270004</td>\n",
       "      <td>158.960007</td>\n",
       "    </tr>\n",
       "  </tbody>\n",
       "</table>\n",
       "<p>1259 rows × 4 columns</p>\n",
       "</div>"
      ],
      "text/plain": [
       "                  AAPL         AMZN         IBM        MSFT\n",
       "Date                                                       \n",
       "2014-12-29  113.910004   312.040009  160.509995   47.450001\n",
       "2014-12-30  112.519997   310.299988  160.050003   47.020000\n",
       "2014-12-31  110.379997   310.350006  160.440002   46.450001\n",
       "2015-01-02  109.330002   308.519989  162.059998   46.759998\n",
       "2015-01-05  106.250000   302.190002  159.509995   46.330002\n",
       "2015-01-06  106.260002   295.290009  156.070007   45.650002\n",
       "2015-01-07  107.750000   298.420013  155.050003   46.230000\n",
       "2015-01-08  111.889999   300.459991  158.419998   47.590000\n",
       "2015-01-09  112.010002   296.929993  159.110001   47.189999\n",
       "2015-01-12  109.250000   291.410004  156.440002   46.599998\n",
       "2015-01-13  110.220001   294.739990  156.809998   46.360001\n",
       "2015-01-14  109.800003   293.269989  155.800003   45.959999\n",
       "2015-01-15  106.820000   286.950012  154.570007   45.480000\n",
       "2015-01-16  105.989998   290.739990  157.139999   46.240002\n",
       "2015-01-20  108.720001   289.440002  156.949997   46.389999\n",
       "2015-01-21  109.550003   297.250000  152.089996   45.919998\n",
       "2015-01-22  112.400002   310.320007  155.389999   47.130001\n",
       "2015-01-23  112.980003   312.390015  155.869995   47.180000\n",
       "2015-01-26  113.099998   309.660004  156.360001   47.009998\n",
       "2015-01-27  109.139999   306.750000  153.669998   42.660000\n",
       "2015-01-28  115.309998   303.910004  151.550003   41.189999\n",
       "2015-01-29  118.900002   311.779999  155.479996   42.009998\n",
       "2015-01-30  117.160004   354.529999  153.309998   40.400002\n",
       "2015-02-02  118.629997   364.470001  154.660004   41.279999\n",
       "2015-02-03  118.650002   363.549988  158.470001   41.599998\n",
       "2015-02-04  119.559998   364.750000  156.960007   41.840000\n",
       "2015-02-05  119.940002   373.890015  157.910004   42.450001\n",
       "2015-02-06  118.930000   374.279999  156.720001   42.410000\n",
       "2015-02-09  119.720001   370.559998  155.750000   42.360001\n",
       "2015-02-10  122.019997   373.000000  158.559998   42.599998\n",
       "...                ...          ...         ...         ...\n",
       "2019-11-14  262.640015  1754.599976  134.000000  148.059998\n",
       "2019-11-15  265.760010  1739.489990  134.399994  149.970001\n",
       "2019-11-18  267.100006  1752.530029  134.309998  150.339996\n",
       "2019-11-19  266.290009  1752.790039  134.520004  150.389999\n",
       "2019-11-20  263.190002  1745.530029  133.199997  149.619995\n",
       "2019-11-21  262.010010  1734.709961  133.839996  149.479996\n",
       "2019-11-22  261.779999  1745.719971  134.339996  149.589996\n",
       "2019-11-25  266.369995  1773.839966  135.970001  151.229996\n",
       "2019-11-26  264.290009  1796.939941  135.089996  152.029999\n",
       "2019-11-27  267.839996  1818.510010  133.770004  152.320007\n",
       "2019-11-29  267.250000  1800.800049  134.449997  151.380005\n",
       "2019-12-02  264.160004  1781.599976  132.910004  149.550003\n",
       "2019-12-03  259.450012  1769.959961  132.119995  149.309998\n",
       "2019-12-04  261.739990  1760.689941  131.990005  149.850006\n",
       "2019-12-05  265.579987  1740.479980  131.910004  149.929993\n",
       "2019-12-06  270.709991  1751.599976  133.220001  151.750000\n",
       "2019-12-09  266.920013  1749.510010  133.919998  151.360001\n",
       "2019-12-10  268.480011  1739.209961  133.910004  151.130005\n",
       "2019-12-11  270.769989  1748.719971  133.759995  151.699997\n",
       "2019-12-12  271.459991  1760.329956  135.320007  153.240005\n",
       "2019-12-13  275.149994  1760.939941  134.210007  154.529999\n",
       "2019-12-16  279.859985  1769.209961  134.130005  155.529999\n",
       "2019-12-17  280.410004  1790.660034  134.220001  154.690002\n",
       "2019-12-18  279.739990  1784.030029  134.410004  154.369995\n",
       "2019-12-19  280.019989  1792.280029  134.559998  155.710007\n",
       "2019-12-20  279.440002  1786.500000  135.589996  157.410004\n",
       "2019-12-23  284.000000  1793.000000  135.550003  157.410004\n",
       "2019-12-24  284.269989  1789.209961  134.979996  157.380005\n",
       "2019-12-26  289.910004  1868.770020  134.910004  158.669998\n",
       "2019-12-27  289.799988  1869.800049  135.270004  158.960007\n",
       "\n",
       "[1259 rows x 4 columns]"
      ]
     },
     "execution_count": 371,
     "metadata": {},
     "output_type": "execute_result"
    }
   ],
   "source": [
    "prices=DataFrame({ticker:data['Close'] for ticker, data in all_data.items()})\n",
    "prices"
   ]
  },
  {
   "cell_type": "code",
   "execution_count": 374,
   "metadata": {},
   "outputs": [
    {
     "data": {
      "text/html": [
       "<div>\n",
       "<style>\n",
       "    .dataframe thead tr:only-child th {\n",
       "        text-align: right;\n",
       "    }\n",
       "\n",
       "    .dataframe thead th {\n",
       "        text-align: left;\n",
       "    }\n",
       "\n",
       "    .dataframe tbody tr th {\n",
       "        vertical-align: top;\n",
       "    }\n",
       "</style>\n",
       "<table border=\"1\" class=\"dataframe\">\n",
       "  <thead>\n",
       "    <tr style=\"text-align: right;\">\n",
       "      <th></th>\n",
       "      <th>AAPL</th>\n",
       "      <th>AMZN</th>\n",
       "      <th>IBM</th>\n",
       "      <th>MSFT</th>\n",
       "    </tr>\n",
       "    <tr>\n",
       "      <th>Date</th>\n",
       "      <th></th>\n",
       "      <th></th>\n",
       "      <th></th>\n",
       "      <th></th>\n",
       "    </tr>\n",
       "  </thead>\n",
       "  <tbody>\n",
       "    <tr>\n",
       "      <th>2014-12-29</th>\n",
       "      <td>27598900.0</td>\n",
       "      <td>3009000</td>\n",
       "      <td>3331800.0</td>\n",
       "      <td>14439500.0</td>\n",
       "    </tr>\n",
       "    <tr>\n",
       "      <th>2014-12-30</th>\n",
       "      <td>29881500.0</td>\n",
       "      <td>2093000</td>\n",
       "      <td>2829900.0</td>\n",
       "      <td>16384700.0</td>\n",
       "    </tr>\n",
       "    <tr>\n",
       "      <th>2014-12-31</th>\n",
       "      <td>41403400.0</td>\n",
       "      <td>2048000</td>\n",
       "      <td>4011900.0</td>\n",
       "      <td>21552500.0</td>\n",
       "    </tr>\n",
       "    <tr>\n",
       "      <th>2015-01-02</th>\n",
       "      <td>53204600.0</td>\n",
       "      <td>2783200</td>\n",
       "      <td>5525500.0</td>\n",
       "      <td>27913900.0</td>\n",
       "    </tr>\n",
       "    <tr>\n",
       "      <th>2015-01-05</th>\n",
       "      <td>64285500.0</td>\n",
       "      <td>2774200</td>\n",
       "      <td>4880400.0</td>\n",
       "      <td>39673900.0</td>\n",
       "    </tr>\n",
       "    <tr>\n",
       "      <th>2015-01-06</th>\n",
       "      <td>65797100.0</td>\n",
       "      <td>3519000</td>\n",
       "      <td>6146700.0</td>\n",
       "      <td>36447900.0</td>\n",
       "    </tr>\n",
       "    <tr>\n",
       "      <th>2015-01-07</th>\n",
       "      <td>40105900.0</td>\n",
       "      <td>2640300</td>\n",
       "      <td>4701800.0</td>\n",
       "      <td>29114100.0</td>\n",
       "    </tr>\n",
       "    <tr>\n",
       "      <th>2015-01-08</th>\n",
       "      <td>59364500.0</td>\n",
       "      <td>3088400</td>\n",
       "      <td>4236800.0</td>\n",
       "      <td>29645200.0</td>\n",
       "    </tr>\n",
       "    <tr>\n",
       "      <th>2015-01-09</th>\n",
       "      <td>53699500.0</td>\n",
       "      <td>2592400</td>\n",
       "      <td>4488300.0</td>\n",
       "      <td>23944200.0</td>\n",
       "    </tr>\n",
       "    <tr>\n",
       "      <th>2015-01-12</th>\n",
       "      <td>49650800.0</td>\n",
       "      <td>3421400</td>\n",
       "      <td>4187600.0</td>\n",
       "      <td>23651900.0</td>\n",
       "    </tr>\n",
       "    <tr>\n",
       "      <th>2015-01-13</th>\n",
       "      <td>67091900.0</td>\n",
       "      <td>4136400</td>\n",
       "      <td>4377500.0</td>\n",
       "      <td>35270600.0</td>\n",
       "    </tr>\n",
       "    <tr>\n",
       "      <th>2015-01-14</th>\n",
       "      <td>48956600.0</td>\n",
       "      <td>5538700</td>\n",
       "      <td>4690300.0</td>\n",
       "      <td>29719600.0</td>\n",
       "    </tr>\n",
       "    <tr>\n",
       "      <th>2015-01-15</th>\n",
       "      <td>60014000.0</td>\n",
       "      <td>4419200</td>\n",
       "      <td>4248400.0</td>\n",
       "      <td>32750800.0</td>\n",
       "    </tr>\n",
       "    <tr>\n",
       "      <th>2015-01-16</th>\n",
       "      <td>78513300.0</td>\n",
       "      <td>3478200</td>\n",
       "      <td>5756000.0</td>\n",
       "      <td>35695300.0</td>\n",
       "    </tr>\n",
       "    <tr>\n",
       "      <th>2015-01-20</th>\n",
       "      <td>49899900.0</td>\n",
       "      <td>3075100</td>\n",
       "      <td>8392800.0</td>\n",
       "      <td>36161900.0</td>\n",
       "    </tr>\n",
       "    <tr>\n",
       "      <th>2015-01-21</th>\n",
       "      <td>48575900.0</td>\n",
       "      <td>10065100</td>\n",
       "      <td>11897100.0</td>\n",
       "      <td>39081100.0</td>\n",
       "    </tr>\n",
       "    <tr>\n",
       "      <th>2015-01-22</th>\n",
       "      <td>53796400.0</td>\n",
       "      <td>5362600</td>\n",
       "      <td>6120100.0</td>\n",
       "      <td>35898000.0</td>\n",
       "    </tr>\n",
       "    <tr>\n",
       "      <th>2015-01-23</th>\n",
       "      <td>46464800.0</td>\n",
       "      <td>4496400</td>\n",
       "      <td>4834800.0</td>\n",
       "      <td>26211600.0</td>\n",
       "    </tr>\n",
       "    <tr>\n",
       "      <th>2015-01-26</th>\n",
       "      <td>55615000.0</td>\n",
       "      <td>3169700</td>\n",
       "      <td>7888100.0</td>\n",
       "      <td>42525500.0</td>\n",
       "    </tr>\n",
       "    <tr>\n",
       "      <th>2015-01-27</th>\n",
       "      <td>95568700.0</td>\n",
       "      <td>2920300</td>\n",
       "      <td>5659600.0</td>\n",
       "      <td>169164000.0</td>\n",
       "    </tr>\n",
       "    <tr>\n",
       "      <th>2015-01-28</th>\n",
       "      <td>146477100.0</td>\n",
       "      <td>3063800</td>\n",
       "      <td>4495900.0</td>\n",
       "      <td>84507100.0</td>\n",
       "    </tr>\n",
       "    <tr>\n",
       "      <th>2015-01-29</th>\n",
       "      <td>84436400.0</td>\n",
       "      <td>8656600</td>\n",
       "      <td>8320800.0</td>\n",
       "      <td>63585300.0</td>\n",
       "    </tr>\n",
       "    <tr>\n",
       "      <th>2015-01-30</th>\n",
       "      <td>83745500.0</td>\n",
       "      <td>23856100</td>\n",
       "      <td>6563600.0</td>\n",
       "      <td>78004900.0</td>\n",
       "    </tr>\n",
       "    <tr>\n",
       "      <th>2015-02-02</th>\n",
       "      <td>62739100.0</td>\n",
       "      <td>10231900</td>\n",
       "      <td>4712200.0</td>\n",
       "      <td>50352500.0</td>\n",
       "    </tr>\n",
       "    <tr>\n",
       "      <th>2015-02-03</th>\n",
       "      <td>51915700.0</td>\n",
       "      <td>6212600</td>\n",
       "      <td>5539400.0</td>\n",
       "      <td>52082400.0</td>\n",
       "    </tr>\n",
       "    <tr>\n",
       "      <th>2015-02-04</th>\n",
       "      <td>70149700.0</td>\n",
       "      <td>4169900</td>\n",
       "      <td>3678500.0</td>\n",
       "      <td>41614800.0</td>\n",
       "    </tr>\n",
       "    <tr>\n",
       "      <th>2015-02-05</th>\n",
       "      <td>42246200.0</td>\n",
       "      <td>7247600</td>\n",
       "      <td>5253600.0</td>\n",
       "      <td>36548200.0</td>\n",
       "    </tr>\n",
       "    <tr>\n",
       "      <th>2015-02-06</th>\n",
       "      <td>43706600.0</td>\n",
       "      <td>3892400</td>\n",
       "      <td>3256500.0</td>\n",
       "      <td>34616600.0</td>\n",
       "    </tr>\n",
       "    <tr>\n",
       "      <th>2015-02-09</th>\n",
       "      <td>38889800.0</td>\n",
       "      <td>2724600</td>\n",
       "      <td>3057700.0</td>\n",
       "      <td>31381100.0</td>\n",
       "    </tr>\n",
       "    <tr>\n",
       "      <th>2015-02-10</th>\n",
       "      <td>62008500.0</td>\n",
       "      <td>2287200</td>\n",
       "      <td>4440600.0</td>\n",
       "      <td>29670700.0</td>\n",
       "    </tr>\n",
       "    <tr>\n",
       "      <th>...</th>\n",
       "      <td>...</td>\n",
       "      <td>...</td>\n",
       "      <td>...</td>\n",
       "      <td>...</td>\n",
       "    </tr>\n",
       "    <tr>\n",
       "      <th>2019-11-14</th>\n",
       "      <td>22295700.0</td>\n",
       "      <td>2264800</td>\n",
       "      <td>4231300.0</td>\n",
       "      <td>19729800.0</td>\n",
       "    </tr>\n",
       "    <tr>\n",
       "      <th>2019-11-15</th>\n",
       "      <td>25051600.0</td>\n",
       "      <td>3927600</td>\n",
       "      <td>3262500.0</td>\n",
       "      <td>23485700.0</td>\n",
       "    </tr>\n",
       "    <tr>\n",
       "      <th>2019-11-18</th>\n",
       "      <td>21675800.0</td>\n",
       "      <td>2839500</td>\n",
       "      <td>3210400.0</td>\n",
       "      <td>21534000.0</td>\n",
       "    </tr>\n",
       "    <tr>\n",
       "      <th>2019-11-19</th>\n",
       "      <td>19041800.0</td>\n",
       "      <td>2270800</td>\n",
       "      <td>2995000.0</td>\n",
       "      <td>23935700.0</td>\n",
       "    </tr>\n",
       "    <tr>\n",
       "      <th>2019-11-20</th>\n",
       "      <td>26558600.0</td>\n",
       "      <td>2790000</td>\n",
       "      <td>4138200.0</td>\n",
       "      <td>25696800.0</td>\n",
       "    </tr>\n",
       "    <tr>\n",
       "      <th>2019-11-21</th>\n",
       "      <td>30348800.0</td>\n",
       "      <td>2662900</td>\n",
       "      <td>3345300.0</td>\n",
       "      <td>18576100.0</td>\n",
       "    </tr>\n",
       "    <tr>\n",
       "      <th>2019-11-22</th>\n",
       "      <td>16331300.0</td>\n",
       "      <td>2479100</td>\n",
       "      <td>3297500.0</td>\n",
       "      <td>15901800.0</td>\n",
       "    </tr>\n",
       "    <tr>\n",
       "      <th>2019-11-25</th>\n",
       "      <td>21005100.0</td>\n",
       "      <td>3486200</td>\n",
       "      <td>2590100.0</td>\n",
       "      <td>22420900.0</td>\n",
       "    </tr>\n",
       "    <tr>\n",
       "      <th>2019-11-26</th>\n",
       "      <td>26301900.0</td>\n",
       "      <td>3181200</td>\n",
       "      <td>3793200.0</td>\n",
       "      <td>24620100.0</td>\n",
       "    </tr>\n",
       "    <tr>\n",
       "      <th>2019-11-27</th>\n",
       "      <td>16308900.0</td>\n",
       "      <td>3025600</td>\n",
       "      <td>3280900.0</td>\n",
       "      <td>15184400.0</td>\n",
       "    </tr>\n",
       "    <tr>\n",
       "      <th>2019-11-29</th>\n",
       "      <td>11654400.0</td>\n",
       "      <td>1923400</td>\n",
       "      <td>1825300.0</td>\n",
       "      <td>11977300.0</td>\n",
       "    </tr>\n",
       "    <tr>\n",
       "      <th>2019-12-02</th>\n",
       "      <td>23621800.0</td>\n",
       "      <td>3925600</td>\n",
       "      <td>3067100.0</td>\n",
       "      <td>27418400.0</td>\n",
       "    </tr>\n",
       "    <tr>\n",
       "      <th>2019-12-03</th>\n",
       "      <td>28607600.0</td>\n",
       "      <td>3380900</td>\n",
       "      <td>3642500.0</td>\n",
       "      <td>24066000.0</td>\n",
       "    </tr>\n",
       "    <tr>\n",
       "      <th>2019-12-04</th>\n",
       "      <td>16795400.0</td>\n",
       "      <td>2670100</td>\n",
       "      <td>3530000.0</td>\n",
       "      <td>17574700.0</td>\n",
       "    </tr>\n",
       "    <tr>\n",
       "      <th>2019-12-05</th>\n",
       "      <td>18606100.0</td>\n",
       "      <td>2823800</td>\n",
       "      <td>3595400.0</td>\n",
       "      <td>17869100.0</td>\n",
       "    </tr>\n",
       "    <tr>\n",
       "      <th>2019-12-06</th>\n",
       "      <td>26518900.0</td>\n",
       "      <td>3117400</td>\n",
       "      <td>3437500.0</td>\n",
       "      <td>16403500.0</td>\n",
       "    </tr>\n",
       "    <tr>\n",
       "      <th>2019-12-09</th>\n",
       "      <td>32010600.0</td>\n",
       "      <td>2442800</td>\n",
       "      <td>2968500.0</td>\n",
       "      <td>16687400.0</td>\n",
       "    </tr>\n",
       "    <tr>\n",
       "      <th>2019-12-10</th>\n",
       "      <td>22605100.0</td>\n",
       "      <td>2514300</td>\n",
       "      <td>3480400.0</td>\n",
       "      <td>16476100.0</td>\n",
       "    </tr>\n",
       "    <tr>\n",
       "      <th>2019-12-11</th>\n",
       "      <td>19689200.0</td>\n",
       "      <td>2097600</td>\n",
       "      <td>3953300.0</td>\n",
       "      <td>18856600.0</td>\n",
       "    </tr>\n",
       "    <tr>\n",
       "      <th>2019-12-12</th>\n",
       "      <td>34327600.0</td>\n",
       "      <td>3095900</td>\n",
       "      <td>4824100.0</td>\n",
       "      <td>24612100.0</td>\n",
       "    </tr>\n",
       "    <tr>\n",
       "      <th>2019-12-13</th>\n",
       "      <td>33396900.0</td>\n",
       "      <td>2745700</td>\n",
       "      <td>2535000.0</td>\n",
       "      <td>23845400.0</td>\n",
       "    </tr>\n",
       "    <tr>\n",
       "      <th>2019-12-16</th>\n",
       "      <td>32046500.0</td>\n",
       "      <td>3145200</td>\n",
       "      <td>3049200.0</td>\n",
       "      <td>24144200.0</td>\n",
       "    </tr>\n",
       "    <tr>\n",
       "      <th>2019-12-17</th>\n",
       "      <td>28539600.0</td>\n",
       "      <td>3644400</td>\n",
       "      <td>2907200.0</td>\n",
       "      <td>25425600.0</td>\n",
       "    </tr>\n",
       "    <tr>\n",
       "      <th>2019-12-18</th>\n",
       "      <td>29007100.0</td>\n",
       "      <td>3351400</td>\n",
       "      <td>3101800.0</td>\n",
       "      <td>24129200.0</td>\n",
       "    </tr>\n",
       "    <tr>\n",
       "      <th>2019-12-19</th>\n",
       "      <td>24592300.0</td>\n",
       "      <td>2652800</td>\n",
       "      <td>3866500.0</td>\n",
       "      <td>24958900.0</td>\n",
       "    </tr>\n",
       "    <tr>\n",
       "      <th>2019-12-20</th>\n",
       "      <td>68994500.0</td>\n",
       "      <td>5150800</td>\n",
       "      <td>7111800.0</td>\n",
       "      <td>53477500.0</td>\n",
       "    </tr>\n",
       "    <tr>\n",
       "      <th>2019-12-23</th>\n",
       "      <td>24643000.0</td>\n",
       "      <td>2136400</td>\n",
       "      <td>2803200.0</td>\n",
       "      <td>17718200.0</td>\n",
       "    </tr>\n",
       "    <tr>\n",
       "      <th>2019-12-24</th>\n",
       "      <td>12119700.0</td>\n",
       "      <td>881300</td>\n",
       "      <td>1202100.0</td>\n",
       "      <td>8989200.0</td>\n",
       "    </tr>\n",
       "    <tr>\n",
       "      <th>2019-12-26</th>\n",
       "      <td>23280300.0</td>\n",
       "      <td>6005400</td>\n",
       "      <td>2129700.0</td>\n",
       "      <td>14520600.0</td>\n",
       "    </tr>\n",
       "    <tr>\n",
       "      <th>2019-12-27</th>\n",
       "      <td>36566500.0</td>\n",
       "      <td>6186600</td>\n",
       "      <td>2752200.0</td>\n",
       "      <td>18412800.0</td>\n",
       "    </tr>\n",
       "  </tbody>\n",
       "</table>\n",
       "<p>1259 rows × 4 columns</p>\n",
       "</div>"
      ],
      "text/plain": [
       "                   AAPL      AMZN         IBM         MSFT\n",
       "Date                                                      \n",
       "2014-12-29   27598900.0   3009000   3331800.0   14439500.0\n",
       "2014-12-30   29881500.0   2093000   2829900.0   16384700.0\n",
       "2014-12-31   41403400.0   2048000   4011900.0   21552500.0\n",
       "2015-01-02   53204600.0   2783200   5525500.0   27913900.0\n",
       "2015-01-05   64285500.0   2774200   4880400.0   39673900.0\n",
       "2015-01-06   65797100.0   3519000   6146700.0   36447900.0\n",
       "2015-01-07   40105900.0   2640300   4701800.0   29114100.0\n",
       "2015-01-08   59364500.0   3088400   4236800.0   29645200.0\n",
       "2015-01-09   53699500.0   2592400   4488300.0   23944200.0\n",
       "2015-01-12   49650800.0   3421400   4187600.0   23651900.0\n",
       "2015-01-13   67091900.0   4136400   4377500.0   35270600.0\n",
       "2015-01-14   48956600.0   5538700   4690300.0   29719600.0\n",
       "2015-01-15   60014000.0   4419200   4248400.0   32750800.0\n",
       "2015-01-16   78513300.0   3478200   5756000.0   35695300.0\n",
       "2015-01-20   49899900.0   3075100   8392800.0   36161900.0\n",
       "2015-01-21   48575900.0  10065100  11897100.0   39081100.0\n",
       "2015-01-22   53796400.0   5362600   6120100.0   35898000.0\n",
       "2015-01-23   46464800.0   4496400   4834800.0   26211600.0\n",
       "2015-01-26   55615000.0   3169700   7888100.0   42525500.0\n",
       "2015-01-27   95568700.0   2920300   5659600.0  169164000.0\n",
       "2015-01-28  146477100.0   3063800   4495900.0   84507100.0\n",
       "2015-01-29   84436400.0   8656600   8320800.0   63585300.0\n",
       "2015-01-30   83745500.0  23856100   6563600.0   78004900.0\n",
       "2015-02-02   62739100.0  10231900   4712200.0   50352500.0\n",
       "2015-02-03   51915700.0   6212600   5539400.0   52082400.0\n",
       "2015-02-04   70149700.0   4169900   3678500.0   41614800.0\n",
       "2015-02-05   42246200.0   7247600   5253600.0   36548200.0\n",
       "2015-02-06   43706600.0   3892400   3256500.0   34616600.0\n",
       "2015-02-09   38889800.0   2724600   3057700.0   31381100.0\n",
       "2015-02-10   62008500.0   2287200   4440600.0   29670700.0\n",
       "...                 ...       ...         ...          ...\n",
       "2019-11-14   22295700.0   2264800   4231300.0   19729800.0\n",
       "2019-11-15   25051600.0   3927600   3262500.0   23485700.0\n",
       "2019-11-18   21675800.0   2839500   3210400.0   21534000.0\n",
       "2019-11-19   19041800.0   2270800   2995000.0   23935700.0\n",
       "2019-11-20   26558600.0   2790000   4138200.0   25696800.0\n",
       "2019-11-21   30348800.0   2662900   3345300.0   18576100.0\n",
       "2019-11-22   16331300.0   2479100   3297500.0   15901800.0\n",
       "2019-11-25   21005100.0   3486200   2590100.0   22420900.0\n",
       "2019-11-26   26301900.0   3181200   3793200.0   24620100.0\n",
       "2019-11-27   16308900.0   3025600   3280900.0   15184400.0\n",
       "2019-11-29   11654400.0   1923400   1825300.0   11977300.0\n",
       "2019-12-02   23621800.0   3925600   3067100.0   27418400.0\n",
       "2019-12-03   28607600.0   3380900   3642500.0   24066000.0\n",
       "2019-12-04   16795400.0   2670100   3530000.0   17574700.0\n",
       "2019-12-05   18606100.0   2823800   3595400.0   17869100.0\n",
       "2019-12-06   26518900.0   3117400   3437500.0   16403500.0\n",
       "2019-12-09   32010600.0   2442800   2968500.0   16687400.0\n",
       "2019-12-10   22605100.0   2514300   3480400.0   16476100.0\n",
       "2019-12-11   19689200.0   2097600   3953300.0   18856600.0\n",
       "2019-12-12   34327600.0   3095900   4824100.0   24612100.0\n",
       "2019-12-13   33396900.0   2745700   2535000.0   23845400.0\n",
       "2019-12-16   32046500.0   3145200   3049200.0   24144200.0\n",
       "2019-12-17   28539600.0   3644400   2907200.0   25425600.0\n",
       "2019-12-18   29007100.0   3351400   3101800.0   24129200.0\n",
       "2019-12-19   24592300.0   2652800   3866500.0   24958900.0\n",
       "2019-12-20   68994500.0   5150800   7111800.0   53477500.0\n",
       "2019-12-23   24643000.0   2136400   2803200.0   17718200.0\n",
       "2019-12-24   12119700.0    881300   1202100.0    8989200.0\n",
       "2019-12-26   23280300.0   6005400   2129700.0   14520600.0\n",
       "2019-12-27   36566500.0   6186600   2752200.0   18412800.0\n",
       "\n",
       "[1259 rows x 4 columns]"
      ]
     },
     "execution_count": 374,
     "metadata": {},
     "output_type": "execute_result"
    }
   ],
   "source": [
    "volumns=DataFrame({ticker:data['Volume'] for ticker, data in all_data.items()})\n",
    "volumns"
   ]
  },
  {
   "cell_type": "code",
   "execution_count": 376,
   "metadata": {},
   "outputs": [
    {
     "data": {
      "text/html": [
       "<div>\n",
       "<style>\n",
       "    .dataframe thead tr:only-child th {\n",
       "        text-align: right;\n",
       "    }\n",
       "\n",
       "    .dataframe thead th {\n",
       "        text-align: left;\n",
       "    }\n",
       "\n",
       "    .dataframe tbody tr th {\n",
       "        vertical-align: top;\n",
       "    }\n",
       "</style>\n",
       "<table border=\"1\" class=\"dataframe\">\n",
       "  <thead>\n",
       "    <tr style=\"text-align: right;\">\n",
       "      <th></th>\n",
       "      <th>AAPL</th>\n",
       "      <th>AMZN</th>\n",
       "      <th>IBM</th>\n",
       "      <th>MSFT</th>\n",
       "    </tr>\n",
       "    <tr>\n",
       "      <th>Date</th>\n",
       "      <th></th>\n",
       "      <th></th>\n",
       "      <th></th>\n",
       "      <th></th>\n",
       "    </tr>\n",
       "  </thead>\n",
       "  <tbody>\n",
       "    <tr>\n",
       "      <th>2019-12-20</th>\n",
       "      <td>-0.002071</td>\n",
       "      <td>-0.003225</td>\n",
       "      <td>0.007655</td>\n",
       "      <td>0.010918</td>\n",
       "    </tr>\n",
       "    <tr>\n",
       "      <th>2019-12-23</th>\n",
       "      <td>0.016318</td>\n",
       "      <td>0.003638</td>\n",
       "      <td>-0.000295</td>\n",
       "      <td>0.000000</td>\n",
       "    </tr>\n",
       "    <tr>\n",
       "      <th>2019-12-24</th>\n",
       "      <td>0.000951</td>\n",
       "      <td>-0.002114</td>\n",
       "      <td>-0.004205</td>\n",
       "      <td>-0.000191</td>\n",
       "    </tr>\n",
       "    <tr>\n",
       "      <th>2019-12-26</th>\n",
       "      <td>0.019840</td>\n",
       "      <td>0.044467</td>\n",
       "      <td>-0.000519</td>\n",
       "      <td>0.008197</td>\n",
       "    </tr>\n",
       "    <tr>\n",
       "      <th>2019-12-27</th>\n",
       "      <td>-0.000379</td>\n",
       "      <td>0.000551</td>\n",
       "      <td>0.002668</td>\n",
       "      <td>0.001828</td>\n",
       "    </tr>\n",
       "  </tbody>\n",
       "</table>\n",
       "</div>"
      ],
      "text/plain": [
       "                AAPL      AMZN       IBM      MSFT\n",
       "Date                                              \n",
       "2019-12-20 -0.002071 -0.003225  0.007655  0.010918\n",
       "2019-12-23  0.016318  0.003638 -0.000295  0.000000\n",
       "2019-12-24  0.000951 -0.002114 -0.004205 -0.000191\n",
       "2019-12-26  0.019840  0.044467 -0.000519  0.008197\n",
       "2019-12-27 -0.000379  0.000551  0.002668  0.001828"
      ]
     },
     "execution_count": 376,
     "metadata": {},
     "output_type": "execute_result"
    }
   ],
   "source": [
    "prices.pct_change().tail()"
   ]
  },
  {
   "cell_type": "code",
   "execution_count": 377,
   "metadata": {
    "collapsed": true
   },
   "outputs": [],
   "source": [
    "def minmax(x):\n",
    "    return Series([x.min(),x.max()], index=['min','max'])"
   ]
  },
  {
   "cell_type": "code",
   "execution_count": 378,
   "metadata": {},
   "outputs": [
    {
     "data": {
      "text/html": [
       "<div>\n",
       "<style>\n",
       "    .dataframe thead tr:only-child th {\n",
       "        text-align: right;\n",
       "    }\n",
       "\n",
       "    .dataframe thead th {\n",
       "        text-align: left;\n",
       "    }\n",
       "\n",
       "    .dataframe tbody tr th {\n",
       "        vertical-align: top;\n",
       "    }\n",
       "</style>\n",
       "<table border=\"1\" class=\"dataframe\">\n",
       "  <thead>\n",
       "    <tr style=\"text-align: right;\">\n",
       "      <th></th>\n",
       "      <th>AAPL</th>\n",
       "      <th>AMZN</th>\n",
       "      <th>IBM</th>\n",
       "      <th>MSFT</th>\n",
       "    </tr>\n",
       "  </thead>\n",
       "  <tbody>\n",
       "    <tr>\n",
       "      <th>min</th>\n",
       "      <td>90.339996</td>\n",
       "      <td>286.950012</td>\n",
       "      <td>107.570000</td>\n",
       "      <td>40.290001</td>\n",
       "    </tr>\n",
       "    <tr>\n",
       "      <th>max</th>\n",
       "      <td>289.910004</td>\n",
       "      <td>2039.510010</td>\n",
       "      <td>181.949997</td>\n",
       "      <td>158.960007</td>\n",
       "    </tr>\n",
       "  </tbody>\n",
       "</table>\n",
       "</div>"
      ],
      "text/plain": [
       "           AAPL         AMZN         IBM        MSFT\n",
       "min   90.339996   286.950012  107.570000   40.290001\n",
       "max  289.910004  2039.510010  181.949997  158.960007"
      ]
     },
     "execution_count": 378,
     "metadata": {},
     "output_type": "execute_result"
    }
   ],
   "source": [
    "prices.apply(minmax)"
   ]
  },
  {
   "cell_type": "code",
   "execution_count": 379,
   "metadata": {
    "collapsed": true
   },
   "outputs": [],
   "source": [
    "changes=prices.pct_change()"
   ]
  },
  {
   "cell_type": "code",
   "execution_count": 380,
   "metadata": {},
   "outputs": [
    {
     "data": {
      "text/plain": [
       "AAPL    0.493042\n",
       "AMZN    1.000000\n",
       "IBM     0.332985\n",
       "MSFT    0.625252\n",
       "dtype: float64"
      ]
     },
     "execution_count": 380,
     "metadata": {},
     "output_type": "execute_result"
    }
   ],
   "source": [
    "changes.corrwith(changes.AMZN)"
   ]
  },
  {
   "cell_type": "code",
   "execution_count": 382,
   "metadata": {},
   "outputs": [
    {
     "data": {
      "text/html": [
       "<div>\n",
       "<style>\n",
       "    .dataframe thead tr:only-child th {\n",
       "        text-align: right;\n",
       "    }\n",
       "\n",
       "    .dataframe thead th {\n",
       "        text-align: left;\n",
       "    }\n",
       "\n",
       "    .dataframe tbody tr th {\n",
       "        vertical-align: top;\n",
       "    }\n",
       "</style>\n",
       "<table border=\"1\" class=\"dataframe\">\n",
       "  <thead>\n",
       "    <tr style=\"text-align: right;\">\n",
       "      <th></th>\n",
       "      <th>AAPL</th>\n",
       "      <th>AMZN</th>\n",
       "      <th>IBM</th>\n",
       "      <th>MSFT</th>\n",
       "    </tr>\n",
       "  </thead>\n",
       "  <tbody>\n",
       "    <tr>\n",
       "      <th>40.290001</th>\n",
       "      <td>NaN</td>\n",
       "      <td>NaN</td>\n",
       "      <td>NaN</td>\n",
       "      <td>1.0</td>\n",
       "    </tr>\n",
       "    <tr>\n",
       "      <th>40.400002</th>\n",
       "      <td>NaN</td>\n",
       "      <td>NaN</td>\n",
       "      <td>NaN</td>\n",
       "      <td>1.0</td>\n",
       "    </tr>\n",
       "    <tr>\n",
       "      <th>40.470001</th>\n",
       "      <td>NaN</td>\n",
       "      <td>NaN</td>\n",
       "      <td>NaN</td>\n",
       "      <td>1.0</td>\n",
       "    </tr>\n",
       "    <tr>\n",
       "      <th>40.660000</th>\n",
       "      <td>NaN</td>\n",
       "      <td>NaN</td>\n",
       "      <td>NaN</td>\n",
       "      <td>1.0</td>\n",
       "    </tr>\n",
       "    <tr>\n",
       "      <th>40.720001</th>\n",
       "      <td>NaN</td>\n",
       "      <td>NaN</td>\n",
       "      <td>NaN</td>\n",
       "      <td>1.0</td>\n",
       "    </tr>\n",
       "    <tr>\n",
       "      <th>40.959999</th>\n",
       "      <td>NaN</td>\n",
       "      <td>NaN</td>\n",
       "      <td>NaN</td>\n",
       "      <td>1.0</td>\n",
       "    </tr>\n",
       "    <tr>\n",
       "      <th>40.970001</th>\n",
       "      <td>NaN</td>\n",
       "      <td>NaN</td>\n",
       "      <td>NaN</td>\n",
       "      <td>1.0</td>\n",
       "    </tr>\n",
       "    <tr>\n",
       "      <th>41.020000</th>\n",
       "      <td>NaN</td>\n",
       "      <td>NaN</td>\n",
       "      <td>NaN</td>\n",
       "      <td>1.0</td>\n",
       "    </tr>\n",
       "    <tr>\n",
       "      <th>41.189999</th>\n",
       "      <td>NaN</td>\n",
       "      <td>NaN</td>\n",
       "      <td>NaN</td>\n",
       "      <td>1.0</td>\n",
       "    </tr>\n",
       "    <tr>\n",
       "      <th>41.209999</th>\n",
       "      <td>NaN</td>\n",
       "      <td>NaN</td>\n",
       "      <td>NaN</td>\n",
       "      <td>1.0</td>\n",
       "    </tr>\n",
       "    <tr>\n",
       "      <th>41.279999</th>\n",
       "      <td>NaN</td>\n",
       "      <td>NaN</td>\n",
       "      <td>NaN</td>\n",
       "      <td>1.0</td>\n",
       "    </tr>\n",
       "    <tr>\n",
       "      <th>41.380001</th>\n",
       "      <td>NaN</td>\n",
       "      <td>NaN</td>\n",
       "      <td>NaN</td>\n",
       "      <td>1.0</td>\n",
       "    </tr>\n",
       "    <tr>\n",
       "      <th>41.419998</th>\n",
       "      <td>NaN</td>\n",
       "      <td>NaN</td>\n",
       "      <td>NaN</td>\n",
       "      <td>1.0</td>\n",
       "    </tr>\n",
       "    <tr>\n",
       "      <th>41.459999</th>\n",
       "      <td>NaN</td>\n",
       "      <td>NaN</td>\n",
       "      <td>NaN</td>\n",
       "      <td>1.0</td>\n",
       "    </tr>\n",
       "    <tr>\n",
       "      <th>41.480000</th>\n",
       "      <td>NaN</td>\n",
       "      <td>NaN</td>\n",
       "      <td>NaN</td>\n",
       "      <td>1.0</td>\n",
       "    </tr>\n",
       "    <tr>\n",
       "      <th>41.529999</th>\n",
       "      <td>NaN</td>\n",
       "      <td>NaN</td>\n",
       "      <td>NaN</td>\n",
       "      <td>1.0</td>\n",
       "    </tr>\n",
       "    <tr>\n",
       "      <th>41.549999</th>\n",
       "      <td>NaN</td>\n",
       "      <td>NaN</td>\n",
       "      <td>NaN</td>\n",
       "      <td>1.0</td>\n",
       "    </tr>\n",
       "    <tr>\n",
       "      <th>41.560001</th>\n",
       "      <td>NaN</td>\n",
       "      <td>NaN</td>\n",
       "      <td>NaN</td>\n",
       "      <td>1.0</td>\n",
       "    </tr>\n",
       "    <tr>\n",
       "      <th>41.599998</th>\n",
       "      <td>NaN</td>\n",
       "      <td>NaN</td>\n",
       "      <td>NaN</td>\n",
       "      <td>1.0</td>\n",
       "    </tr>\n",
       "    <tr>\n",
       "      <th>41.619999</th>\n",
       "      <td>NaN</td>\n",
       "      <td>NaN</td>\n",
       "      <td>NaN</td>\n",
       "      <td>1.0</td>\n",
       "    </tr>\n",
       "    <tr>\n",
       "      <th>41.650002</th>\n",
       "      <td>NaN</td>\n",
       "      <td>NaN</td>\n",
       "      <td>NaN</td>\n",
       "      <td>1.0</td>\n",
       "    </tr>\n",
       "    <tr>\n",
       "      <th>41.680000</th>\n",
       "      <td>NaN</td>\n",
       "      <td>NaN</td>\n",
       "      <td>NaN</td>\n",
       "      <td>1.0</td>\n",
       "    </tr>\n",
       "    <tr>\n",
       "      <th>41.700001</th>\n",
       "      <td>NaN</td>\n",
       "      <td>NaN</td>\n",
       "      <td>NaN</td>\n",
       "      <td>1.0</td>\n",
       "    </tr>\n",
       "    <tr>\n",
       "      <th>41.720001</th>\n",
       "      <td>NaN</td>\n",
       "      <td>NaN</td>\n",
       "      <td>NaN</td>\n",
       "      <td>1.0</td>\n",
       "    </tr>\n",
       "    <tr>\n",
       "      <th>41.759998</th>\n",
       "      <td>NaN</td>\n",
       "      <td>NaN</td>\n",
       "      <td>NaN</td>\n",
       "      <td>1.0</td>\n",
       "    </tr>\n",
       "    <tr>\n",
       "      <th>41.820000</th>\n",
       "      <td>NaN</td>\n",
       "      <td>NaN</td>\n",
       "      <td>NaN</td>\n",
       "      <td>1.0</td>\n",
       "    </tr>\n",
       "    <tr>\n",
       "      <th>41.840000</th>\n",
       "      <td>NaN</td>\n",
       "      <td>NaN</td>\n",
       "      <td>NaN</td>\n",
       "      <td>1.0</td>\n",
       "    </tr>\n",
       "    <tr>\n",
       "      <th>41.980000</th>\n",
       "      <td>NaN</td>\n",
       "      <td>NaN</td>\n",
       "      <td>NaN</td>\n",
       "      <td>1.0</td>\n",
       "    </tr>\n",
       "    <tr>\n",
       "      <th>42.009998</th>\n",
       "      <td>NaN</td>\n",
       "      <td>NaN</td>\n",
       "      <td>NaN</td>\n",
       "      <td>1.0</td>\n",
       "    </tr>\n",
       "    <tr>\n",
       "      <th>42.029999</th>\n",
       "      <td>NaN</td>\n",
       "      <td>NaN</td>\n",
       "      <td>NaN</td>\n",
       "      <td>1.0</td>\n",
       "    </tr>\n",
       "    <tr>\n",
       "      <th>...</th>\n",
       "      <td>...</td>\n",
       "      <td>...</td>\n",
       "      <td>...</td>\n",
       "      <td>...</td>\n",
       "    </tr>\n",
       "    <tr>\n",
       "      <th>1958.310059</th>\n",
       "      <td>NaN</td>\n",
       "      <td>1.0</td>\n",
       "      <td>NaN</td>\n",
       "      <td>NaN</td>\n",
       "    </tr>\n",
       "    <tr>\n",
       "      <th>1962.459961</th>\n",
       "      <td>NaN</td>\n",
       "      <td>1.0</td>\n",
       "      <td>NaN</td>\n",
       "      <td>NaN</td>\n",
       "    </tr>\n",
       "    <tr>\n",
       "      <th>1964.520020</th>\n",
       "      <td>NaN</td>\n",
       "      <td>1.0</td>\n",
       "      <td>NaN</td>\n",
       "      <td>NaN</td>\n",
       "    </tr>\n",
       "    <tr>\n",
       "      <th>1970.189941</th>\n",
       "      <td>NaN</td>\n",
       "      <td>1.0</td>\n",
       "      <td>NaN</td>\n",
       "      <td>NaN</td>\n",
       "    </tr>\n",
       "    <tr>\n",
       "      <th>1971.310059</th>\n",
       "      <td>NaN</td>\n",
       "      <td>1.0</td>\n",
       "      <td>NaN</td>\n",
       "      <td>NaN</td>\n",
       "    </tr>\n",
       "    <tr>\n",
       "      <th>1973.819946</th>\n",
       "      <td>NaN</td>\n",
       "      <td>1.0</td>\n",
       "      <td>NaN</td>\n",
       "      <td>NaN</td>\n",
       "    </tr>\n",
       "    <tr>\n",
       "      <th>1974.550049</th>\n",
       "      <td>NaN</td>\n",
       "      <td>1.0</td>\n",
       "      <td>NaN</td>\n",
       "      <td>NaN</td>\n",
       "    </tr>\n",
       "    <tr>\n",
       "      <th>1974.849976</th>\n",
       "      <td>NaN</td>\n",
       "      <td>1.0</td>\n",
       "      <td>NaN</td>\n",
       "      <td>NaN</td>\n",
       "    </tr>\n",
       "    <tr>\n",
       "      <th>1977.900024</th>\n",
       "      <td>NaN</td>\n",
       "      <td>1.0</td>\n",
       "      <td>NaN</td>\n",
       "      <td>NaN</td>\n",
       "    </tr>\n",
       "    <tr>\n",
       "      <th>1985.630005</th>\n",
       "      <td>NaN</td>\n",
       "      <td>1.0</td>\n",
       "      <td>NaN</td>\n",
       "      <td>NaN</td>\n",
       "    </tr>\n",
       "    <tr>\n",
       "      <th>1987.150024</th>\n",
       "      <td>NaN</td>\n",
       "      <td>1.0</td>\n",
       "      <td>NaN</td>\n",
       "      <td>NaN</td>\n",
       "    </tr>\n",
       "    <tr>\n",
       "      <th>1988.300049</th>\n",
       "      <td>NaN</td>\n",
       "      <td>1.0</td>\n",
       "      <td>NaN</td>\n",
       "      <td>NaN</td>\n",
       "    </tr>\n",
       "    <tr>\n",
       "      <th>1989.869995</th>\n",
       "      <td>NaN</td>\n",
       "      <td>1.0</td>\n",
       "      <td>NaN</td>\n",
       "      <td>NaN</td>\n",
       "    </tr>\n",
       "    <tr>\n",
       "      <th>1990.000000</th>\n",
       "      <td>NaN</td>\n",
       "      <td>1.0</td>\n",
       "      <td>NaN</td>\n",
       "      <td>NaN</td>\n",
       "    </tr>\n",
       "    <tr>\n",
       "      <th>1992.030029</th>\n",
       "      <td>NaN</td>\n",
       "      <td>1.0</td>\n",
       "      <td>NaN</td>\n",
       "      <td>NaN</td>\n",
       "    </tr>\n",
       "    <tr>\n",
       "      <th>1994.489990</th>\n",
       "      <td>NaN</td>\n",
       "      <td>1.0</td>\n",
       "      <td>NaN</td>\n",
       "      <td>NaN</td>\n",
       "    </tr>\n",
       "    <tr>\n",
       "      <th>1994.819946</th>\n",
       "      <td>NaN</td>\n",
       "      <td>1.0</td>\n",
       "      <td>NaN</td>\n",
       "      <td>NaN</td>\n",
       "    </tr>\n",
       "    <tr>\n",
       "      <th>1998.099976</th>\n",
       "      <td>NaN</td>\n",
       "      <td>1.0</td>\n",
       "      <td>NaN</td>\n",
       "      <td>NaN</td>\n",
       "    </tr>\n",
       "    <tr>\n",
       "      <th>2000.810059</th>\n",
       "      <td>NaN</td>\n",
       "      <td>1.0</td>\n",
       "      <td>NaN</td>\n",
       "      <td>NaN</td>\n",
       "    </tr>\n",
       "    <tr>\n",
       "      <th>2001.069946</th>\n",
       "      <td>NaN</td>\n",
       "      <td>1.0</td>\n",
       "      <td>NaN</td>\n",
       "      <td>NaN</td>\n",
       "    </tr>\n",
       "    <tr>\n",
       "      <th>2002.380005</th>\n",
       "      <td>NaN</td>\n",
       "      <td>1.0</td>\n",
       "      <td>NaN</td>\n",
       "      <td>NaN</td>\n",
       "    </tr>\n",
       "    <tr>\n",
       "      <th>2003.000000</th>\n",
       "      <td>NaN</td>\n",
       "      <td>1.0</td>\n",
       "      <td>NaN</td>\n",
       "      <td>NaN</td>\n",
       "    </tr>\n",
       "    <tr>\n",
       "      <th>2004.359985</th>\n",
       "      <td>NaN</td>\n",
       "      <td>1.0</td>\n",
       "      <td>NaN</td>\n",
       "      <td>NaN</td>\n",
       "    </tr>\n",
       "    <tr>\n",
       "      <th>2009.900024</th>\n",
       "      <td>NaN</td>\n",
       "      <td>1.0</td>\n",
       "      <td>NaN</td>\n",
       "      <td>NaN</td>\n",
       "    </tr>\n",
       "    <tr>\n",
       "      <th>2011.000000</th>\n",
       "      <td>NaN</td>\n",
       "      <td>1.0</td>\n",
       "      <td>NaN</td>\n",
       "      <td>NaN</td>\n",
       "    </tr>\n",
       "    <tr>\n",
       "      <th>2012.709961</th>\n",
       "      <td>NaN</td>\n",
       "      <td>1.0</td>\n",
       "      <td>NaN</td>\n",
       "      <td>NaN</td>\n",
       "    </tr>\n",
       "    <tr>\n",
       "      <th>2012.979980</th>\n",
       "      <td>NaN</td>\n",
       "      <td>1.0</td>\n",
       "      <td>NaN</td>\n",
       "      <td>NaN</td>\n",
       "    </tr>\n",
       "    <tr>\n",
       "      <th>2017.410034</th>\n",
       "      <td>NaN</td>\n",
       "      <td>1.0</td>\n",
       "      <td>NaN</td>\n",
       "      <td>NaN</td>\n",
       "    </tr>\n",
       "    <tr>\n",
       "      <th>2020.989990</th>\n",
       "      <td>NaN</td>\n",
       "      <td>1.0</td>\n",
       "      <td>NaN</td>\n",
       "      <td>NaN</td>\n",
       "    </tr>\n",
       "    <tr>\n",
       "      <th>2039.510010</th>\n",
       "      <td>NaN</td>\n",
       "      <td>1.0</td>\n",
       "      <td>NaN</td>\n",
       "      <td>NaN</td>\n",
       "    </tr>\n",
       "  </tbody>\n",
       "</table>\n",
       "<p>4516 rows × 4 columns</p>\n",
       "</div>"
      ],
      "text/plain": [
       "             AAPL  AMZN  IBM  MSFT\n",
       "40.290001     NaN   NaN  NaN   1.0\n",
       "40.400002     NaN   NaN  NaN   1.0\n",
       "40.470001     NaN   NaN  NaN   1.0\n",
       "40.660000     NaN   NaN  NaN   1.0\n",
       "40.720001     NaN   NaN  NaN   1.0\n",
       "40.959999     NaN   NaN  NaN   1.0\n",
       "40.970001     NaN   NaN  NaN   1.0\n",
       "41.020000     NaN   NaN  NaN   1.0\n",
       "41.189999     NaN   NaN  NaN   1.0\n",
       "41.209999     NaN   NaN  NaN   1.0\n",
       "41.279999     NaN   NaN  NaN   1.0\n",
       "41.380001     NaN   NaN  NaN   1.0\n",
       "41.419998     NaN   NaN  NaN   1.0\n",
       "41.459999     NaN   NaN  NaN   1.0\n",
       "41.480000     NaN   NaN  NaN   1.0\n",
       "41.529999     NaN   NaN  NaN   1.0\n",
       "41.549999     NaN   NaN  NaN   1.0\n",
       "41.560001     NaN   NaN  NaN   1.0\n",
       "41.599998     NaN   NaN  NaN   1.0\n",
       "41.619999     NaN   NaN  NaN   1.0\n",
       "41.650002     NaN   NaN  NaN   1.0\n",
       "41.680000     NaN   NaN  NaN   1.0\n",
       "41.700001     NaN   NaN  NaN   1.0\n",
       "41.720001     NaN   NaN  NaN   1.0\n",
       "41.759998     NaN   NaN  NaN   1.0\n",
       "41.820000     NaN   NaN  NaN   1.0\n",
       "41.840000     NaN   NaN  NaN   1.0\n",
       "41.980000     NaN   NaN  NaN   1.0\n",
       "42.009998     NaN   NaN  NaN   1.0\n",
       "42.029999     NaN   NaN  NaN   1.0\n",
       "...           ...   ...  ...   ...\n",
       "1958.310059   NaN   1.0  NaN   NaN\n",
       "1962.459961   NaN   1.0  NaN   NaN\n",
       "1964.520020   NaN   1.0  NaN   NaN\n",
       "1970.189941   NaN   1.0  NaN   NaN\n",
       "1971.310059   NaN   1.0  NaN   NaN\n",
       "1973.819946   NaN   1.0  NaN   NaN\n",
       "1974.550049   NaN   1.0  NaN   NaN\n",
       "1974.849976   NaN   1.0  NaN   NaN\n",
       "1977.900024   NaN   1.0  NaN   NaN\n",
       "1985.630005   NaN   1.0  NaN   NaN\n",
       "1987.150024   NaN   1.0  NaN   NaN\n",
       "1988.300049   NaN   1.0  NaN   NaN\n",
       "1989.869995   NaN   1.0  NaN   NaN\n",
       "1990.000000   NaN   1.0  NaN   NaN\n",
       "1992.030029   NaN   1.0  NaN   NaN\n",
       "1994.489990   NaN   1.0  NaN   NaN\n",
       "1994.819946   NaN   1.0  NaN   NaN\n",
       "1998.099976   NaN   1.0  NaN   NaN\n",
       "2000.810059   NaN   1.0  NaN   NaN\n",
       "2001.069946   NaN   1.0  NaN   NaN\n",
       "2002.380005   NaN   1.0  NaN   NaN\n",
       "2003.000000   NaN   1.0  NaN   NaN\n",
       "2004.359985   NaN   1.0  NaN   NaN\n",
       "2009.900024   NaN   1.0  NaN   NaN\n",
       "2011.000000   NaN   1.0  NaN   NaN\n",
       "2012.709961   NaN   1.0  NaN   NaN\n",
       "2012.979980   NaN   1.0  NaN   NaN\n",
       "2017.410034   NaN   1.0  NaN   NaN\n",
       "2020.989990   NaN   1.0  NaN   NaN\n",
       "2039.510010   NaN   1.0  NaN   NaN\n",
       "\n",
       "[4516 rows x 4 columns]"
      ]
     },
     "execution_count": 382,
     "metadata": {},
     "output_type": "execute_result"
    }
   ],
   "source": [
    "prices.apply(pd.value_counts)"
   ]
  }
 ],
 "metadata": {
  "kernelspec": {
   "display_name": "Python 3",
   "language": "python",
   "name": "python3"
  },
  "language_info": {
   "codemirror_mode": {
    "name": "ipython",
    "version": 3
   },
   "file_extension": ".py",
   "mimetype": "text/x-python",
   "name": "python",
   "nbconvert_exporter": "python",
   "pygments_lexer": "ipython3",
   "version": "3.6.3"
  }
 },
 "nbformat": 4,
 "nbformat_minor": 2
}
